{
 "cells": [
  {
   "cell_type": "code",
   "execution_count": 1,
   "id": "50b788a5",
   "metadata": {},
   "outputs": [],
   "source": [
    "# sets"
   ]
  },
  {
   "cell_type": "code",
   "execution_count": 5,
   "id": "9e7d4311",
   "metadata": {},
   "outputs": [],
   "source": [
    "colours={'black','green','red','yellow','pink','purpul','white','blue'}"
   ]
  },
  {
   "cell_type": "code",
   "execution_count": 6,
   "id": "c2323d43",
   "metadata": {},
   "outputs": [
    {
     "name": "stdout",
     "output_type": "stream",
     "text": [
      "{'black', 'white', 'green', 'blue', 'purpul', 'yellow', 'pink', 'red'}\n"
     ]
    }
   ],
   "source": [
    "print(colours)"
   ]
  },
  {
   "cell_type": "code",
   "execution_count": 7,
   "id": "4048fe98",
   "metadata": {},
   "outputs": [
    {
     "data": {
      "text/plain": [
       "set"
      ]
     },
     "execution_count": 7,
     "metadata": {},
     "output_type": "execute_result"
    }
   ],
   "source": [
    "type(colours)"
   ]
  },
  {
   "cell_type": "code",
   "execution_count": 11,
   "id": "1fc645eb",
   "metadata": {},
   "outputs": [
    {
     "data": {
      "text/plain": [
       "8"
      ]
     },
     "execution_count": 11,
     "metadata": {},
     "output_type": "execute_result"
    }
   ],
   "source": [
    "len(colours)"
   ]
  },
  {
   "cell_type": "code",
   "execution_count": 12,
   "id": "c7da0dff",
   "metadata": {},
   "outputs": [],
   "source": [
    "z={'sky blue'}"
   ]
  },
  {
   "cell_type": "code",
   "execution_count": 13,
   "id": "a6e6e950",
   "metadata": {},
   "outputs": [
    {
     "name": "stdout",
     "output_type": "stream",
     "text": [
      "{'sky blue'}\n"
     ]
    }
   ],
   "source": [
    "print(z)"
   ]
  },
  {
   "cell_type": "code",
   "execution_count": 16,
   "id": "8184f91e",
   "metadata": {},
   "outputs": [],
   "source": [
    "z.add(6)"
   ]
  },
  {
   "cell_type": "code",
   "execution_count": 17,
   "id": "3ff50de2",
   "metadata": {},
   "outputs": [
    {
     "name": "stdout",
     "output_type": "stream",
     "text": [
      "{'sky blue', 6}\n"
     ]
    }
   ],
   "source": [
    "print(z)"
   ]
  },
  {
   "cell_type": "code",
   "execution_count": 19,
   "id": "287325d3",
   "metadata": {},
   "outputs": [],
   "source": [
    "z.add('colours')"
   ]
  },
  {
   "cell_type": "code",
   "execution_count": 20,
   "id": "ac304299",
   "metadata": {},
   "outputs": [
    {
     "name": "stdout",
     "output_type": "stream",
     "text": [
      "{'sky blue', 'colours', 6}\n"
     ]
    }
   ],
   "source": [
    "print(z)"
   ]
  },
  {
   "cell_type": "code",
   "execution_count": 23,
   "id": "772afc1a",
   "metadata": {},
   "outputs": [
    {
     "name": "stdout",
     "output_type": "stream",
     "text": [
      "{'black', 'white', 'green', 'blue', 'purpul', 'yellow', 'pink', 'red'}\n"
     ]
    }
   ],
   "source": [
    "print(colours)"
   ]
  },
  {
   "cell_type": "code",
   "execution_count": 24,
   "id": "f8d326a6",
   "metadata": {},
   "outputs": [
    {
     "ename": "NameError",
     "evalue": "name 'dark' is not defined",
     "output_type": "error",
     "traceback": [
      "\u001b[1;31m---------------------------------------------------------------------------\u001b[0m",
      "\u001b[1;31mNameError\u001b[0m                                 Traceback (most recent call last)",
      "\u001b[1;32m<ipython-input-24-695caa642e34>\u001b[0m in \u001b[0;36m<module>\u001b[1;34m\u001b[0m\n\u001b[1;32m----> 1\u001b[1;33m \u001b[0mcolours\u001b[0m\u001b[1;33m.\u001b[0m\u001b[0madd\u001b[0m\u001b[1;33m(\u001b[0m\u001b[0mdark\u001b[0m\u001b[1;33m)\u001b[0m\u001b[1;33m\u001b[0m\u001b[1;33m\u001b[0m\u001b[0m\n\u001b[0m",
      "\u001b[1;31mNameError\u001b[0m: name 'dark' is not defined"
     ]
    }
   ],
   "source": [
    "colours.add(dark)"
   ]
  },
  {
   "cell_type": "code",
   "execution_count": 8,
   "id": "7682cd31",
   "metadata": {},
   "outputs": [],
   "source": [
    "x={5,2,8,4,5,6,9,3,5,7,'venkat'}"
   ]
  },
  {
   "cell_type": "code",
   "execution_count": 9,
   "id": "78b16089",
   "metadata": {},
   "outputs": [
    {
     "name": "stdout",
     "output_type": "stream",
     "text": [
      "{2, 3, 4, 5, 6, 7, 8, 9, 'venkat'}\n"
     ]
    }
   ],
   "source": [
    "print(x)"
   ]
  },
  {
   "cell_type": "code",
   "execution_count": 10,
   "id": "abaf604e",
   "metadata": {},
   "outputs": [
    {
     "data": {
      "text/plain": [
       "set"
      ]
     },
     "execution_count": 10,
     "metadata": {},
     "output_type": "execute_result"
    }
   ],
   "source": [
    "type(x)"
   ]
  },
  {
   "cell_type": "code",
   "execution_count": 21,
   "id": "65dc2d17",
   "metadata": {},
   "outputs": [],
   "source": [
    "x.add(585858)"
   ]
  },
  {
   "cell_type": "code",
   "execution_count": 22,
   "id": "0f158d9c",
   "metadata": {},
   "outputs": [
    {
     "name": "stdout",
     "output_type": "stream",
     "text": [
      "{2, 3, 4, 5, 6, 7, 8, 9, 585858, 'venkat'}\n"
     ]
    }
   ],
   "source": [
    "print(x)"
   ]
  },
  {
   "cell_type": "code",
   "execution_count": 25,
   "id": "7063e6c4",
   "metadata": {},
   "outputs": [],
   "source": [
    "x.add('kommineni')"
   ]
  },
  {
   "cell_type": "code",
   "execution_count": 26,
   "id": "d287d25f",
   "metadata": {},
   "outputs": [
    {
     "name": "stdout",
     "output_type": "stream",
     "text": [
      "{2, 3, 4, 5, 6, 7, 8, 9, 585858, 'kommineni', 'venkat'}\n"
     ]
    }
   ],
   "source": [
    "print(x)"
   ]
  },
  {
   "cell_type": "code",
   "execution_count": 27,
   "id": "9f07130e",
   "metadata": {},
   "outputs": [],
   "source": [
    "y={5,8,6,66,55,77}"
   ]
  },
  {
   "cell_type": "code",
   "execution_count": 28,
   "id": "eca752b7",
   "metadata": {},
   "outputs": [
    {
     "name": "stdout",
     "output_type": "stream",
     "text": [
      "{66, 5, 6, 8, 77, 55}\n"
     ]
    }
   ],
   "source": [
    "print(y)"
   ]
  },
  {
   "cell_type": "code",
   "execution_count": 29,
   "id": "0cdc64ed",
   "metadata": {},
   "outputs": [
    {
     "data": {
      "text/plain": [
       "set"
      ]
     },
     "execution_count": 29,
     "metadata": {},
     "output_type": "execute_result"
    }
   ],
   "source": [
    "type(y)"
   ]
  },
  {
   "cell_type": "code",
   "execution_count": 30,
   "id": "67886737",
   "metadata": {},
   "outputs": [
    {
     "ename": "TypeError",
     "evalue": "unhashable type: 'set'",
     "output_type": "error",
     "traceback": [
      "\u001b[1;31m---------------------------------------------------------------------------\u001b[0m",
      "\u001b[1;31mTypeError\u001b[0m                                 Traceback (most recent call last)",
      "\u001b[1;32m<ipython-input-30-cb18b8475962>\u001b[0m in \u001b[0;36m<module>\u001b[1;34m\u001b[0m\n\u001b[1;32m----> 1\u001b[1;33m \u001b[0my\u001b[0m\u001b[1;33m.\u001b[0m\u001b[0madd\u001b[0m\u001b[1;33m(\u001b[0m\u001b[0mx\u001b[0m\u001b[1;33m)\u001b[0m\u001b[1;33m\u001b[0m\u001b[1;33m\u001b[0m\u001b[0m\n\u001b[0m",
      "\u001b[1;31mTypeError\u001b[0m: unhashable type: 'set'"
     ]
    }
   ],
   "source": [
    "y.add(x)"
   ]
  },
  {
   "cell_type": "code",
   "execution_count": 34,
   "id": "a6d2da42",
   "metadata": {},
   "outputs": [],
   "source": [
    "t={1,2,3,4,5,6,7,8,9,10,11,12,12,121,1,2,3,1,1,1}"
   ]
  },
  {
   "cell_type": "code",
   "execution_count": 35,
   "id": "b556008d",
   "metadata": {},
   "outputs": [
    {
     "name": "stdout",
     "output_type": "stream",
     "text": [
      "{1, 2, 3, 4, 5, 6, 7, 8, 9, 10, 11, 12, 121}\n"
     ]
    }
   ],
   "source": [
    "print(t)"
   ]
  },
  {
   "cell_type": "code",
   "execution_count": 36,
   "id": "b1da843b",
   "metadata": {},
   "outputs": [
    {
     "data": {
      "text/plain": [
       "13"
      ]
     },
     "execution_count": 36,
     "metadata": {},
     "output_type": "execute_result"
    }
   ],
   "source": [
    "len(t)"
   ]
  },
  {
   "cell_type": "code",
   "execution_count": 46,
   "id": "7191cc64",
   "metadata": {},
   "outputs": [],
   "source": [
    "colours.update(t)"
   ]
  },
  {
   "cell_type": "code",
   "execution_count": 48,
   "id": "c28f7a33",
   "metadata": {},
   "outputs": [
    {
     "name": "stdout",
     "output_type": "stream",
     "text": [
      "{'black', 1, 2, 3, 4, 5, 6, 7, 8, 9, 10, 11, 12, 'white', 'green', 'blue', 'purpul', 'yellow', 'pink', 'red', 121}\n"
     ]
    }
   ],
   "source": [
    "print(colours)"
   ]
  },
  {
   "cell_type": "code",
   "execution_count": 49,
   "id": "3485b057",
   "metadata": {},
   "outputs": [],
   "source": [
    "t.update(colours)"
   ]
  },
  {
   "cell_type": "code",
   "execution_count": 50,
   "id": "c80569a4",
   "metadata": {},
   "outputs": [
    {
     "name": "stdout",
     "output_type": "stream",
     "text": [
      "{1, 2, 3, 4, 5, 6, 7, 8, 9, 10, 11, 12, 'white', 'blue', 'purpul', 'red', 'black', 'green', 'yellow', 'pink', 121}\n"
     ]
    }
   ],
   "source": [
    "print(t)"
   ]
  },
  {
   "cell_type": "code",
   "execution_count": 51,
   "id": "f8115182",
   "metadata": {},
   "outputs": [
    {
     "name": "stdout",
     "output_type": "stream",
     "text": [
      "{2, 3, 4, 5, 6, 7, 8, 9, 585858, 'kommineni', 'venkat'}\n"
     ]
    }
   ],
   "source": [
    "print(x)"
   ]
  },
  {
   "cell_type": "code",
   "execution_count": 52,
   "id": "67e56549",
   "metadata": {},
   "outputs": [
    {
     "name": "stdout",
     "output_type": "stream",
     "text": [
      "{1, 2, 3, 4, 5, 6, 7, 8, 9, 10, 11, 12, 'white', 'blue', 'purpul', 'red', 'black', 'green', 'yellow', 'pink', 121}\n"
     ]
    }
   ],
   "source": [
    "print(t)"
   ]
  },
  {
   "cell_type": "code",
   "execution_count": 53,
   "id": "2a4aafdf",
   "metadata": {},
   "outputs": [],
   "source": [
    "x.update(t)"
   ]
  },
  {
   "cell_type": "code",
   "execution_count": 54,
   "id": "8ad74741",
   "metadata": {},
   "outputs": [
    {
     "name": "stdout",
     "output_type": "stream",
     "text": [
      "{1, 2, 3, 4, 5, 6, 7, 8, 9, 10, 11, 12, 'white', 'blue', 'purpul', 'red', 'black', 'green', 'yellow', 'pink', 121}\n"
     ]
    }
   ],
   "source": [
    "print(t)"
   ]
  },
  {
   "cell_type": "code",
   "execution_count": 55,
   "id": "ee3c694b",
   "metadata": {},
   "outputs": [],
   "source": [
    "t.update(x)"
   ]
  },
  {
   "cell_type": "code",
   "execution_count": 56,
   "id": "34b67994",
   "metadata": {},
   "outputs": [
    {
     "name": "stdout",
     "output_type": "stream",
     "text": [
      "{1, 2, 3, 4, 5, 6, 7, 8, 9, 585858, 10, 11, 12, 'white', 'blue', 'purpul', 'red', 'black', 'kommineni', 'green', 'yellow', 'pink', 121, 'venkat'}\n"
     ]
    }
   ],
   "source": [
    "print(x)"
   ]
  },
  {
   "cell_type": "code",
   "execution_count": null,
   "id": "f5029dff",
   "metadata": {},
   "outputs": [],
   "source": []
  },
  {
   "cell_type": "code",
   "execution_count": 57,
   "id": "d1306f78",
   "metadata": {},
   "outputs": [
    {
     "name": "stdout",
     "output_type": "stream",
     "text": [
      "{1, 2, 3, 4, 5, 6, 7, 8, 9, 585858, 10, 11, 12, 'white', 'blue', 'purpul', 'red', 'black', 'kommineni', 'green', 'yellow', 'pink', 121, 'venkat'}\n"
     ]
    }
   ],
   "source": [
    "print(x)"
   ]
  },
  {
   "cell_type": "code",
   "execution_count": 59,
   "id": "3fca7f1a",
   "metadata": {},
   "outputs": [
    {
     "name": "stdout",
     "output_type": "stream",
     "text": [
      "{1, 2, 3, 4, 5, 6, 7, 8, 585858, 10, 11, 12, 'white', 'blue', 'purpul', 'red', 'black', 'kommineni', 'green', 'yellow', 'pink', 121, 'venkat'}\n"
     ]
    }
   ],
   "source": [
    "print(x)"
   ]
  },
  {
   "cell_type": "code",
   "execution_count": 67,
   "id": "52adaba6",
   "metadata": {},
   "outputs": [
    {
     "data": {
      "text/plain": [
       "22"
      ]
     },
     "execution_count": 67,
     "metadata": {},
     "output_type": "execute_result"
    }
   ],
   "source": [
    "len(x)"
   ]
  },
  {
   "cell_type": "code",
   "execution_count": 65,
   "id": "899f5b94",
   "metadata": {},
   "outputs": [],
   "source": [
    "x.remove('venkat')"
   ]
  },
  {
   "cell_type": "code",
   "execution_count": 68,
   "id": "b91c2ca2",
   "metadata": {},
   "outputs": [
    {
     "name": "stdout",
     "output_type": "stream",
     "text": [
      "{1, 2, 3, 4, 5, 6, 7, 8, 585858, 10, 11, 12, 'white', 'blue', 'purpul', 'red', 'black', 'kommineni', 'green', 'yellow', 'pink', 121}\n"
     ]
    }
   ],
   "source": [
    "print(x)"
   ]
  },
  {
   "cell_type": "code",
   "execution_count": 70,
   "id": "63a7c6f9",
   "metadata": {},
   "outputs": [
    {
     "ename": "TypeError",
     "evalue": "remove() takes exactly one argument (3 given)",
     "output_type": "error",
     "traceback": [
      "\u001b[1;31m---------------------------------------------------------------------------\u001b[0m",
      "\u001b[1;31mTypeError\u001b[0m                                 Traceback (most recent call last)",
      "\u001b[1;32m<ipython-input-70-f9013bffe6da>\u001b[0m in \u001b[0;36m<module>\u001b[1;34m\u001b[0m\n\u001b[1;32m----> 1\u001b[1;33m \u001b[0mx\u001b[0m\u001b[1;33m.\u001b[0m\u001b[0mremove\u001b[0m\u001b[1;33m(\u001b[0m\u001b[1;36m2\u001b[0m\u001b[1;33m,\u001b[0m\u001b[1;36m5\u001b[0m\u001b[1;33m,\u001b[0m\u001b[1;36m6\u001b[0m\u001b[1;33m)\u001b[0m\u001b[1;33m\u001b[0m\u001b[1;33m\u001b[0m\u001b[0m\n\u001b[0m",
      "\u001b[1;31mTypeError\u001b[0m: remove() takes exactly one argument (3 given)"
     ]
    }
   ],
   "source": [
    "x.remove(2,5,6)"
   ]
  },
  {
   "cell_type": "code",
   "execution_count": 71,
   "id": "8555a155",
   "metadata": {},
   "outputs": [],
   "source": [
    "x.remove(5)"
   ]
  },
  {
   "cell_type": "code",
   "execution_count": 72,
   "id": "76781ae5",
   "metadata": {},
   "outputs": [
    {
     "name": "stdout",
     "output_type": "stream",
     "text": [
      "{1, 2, 3, 4, 6, 7, 8, 585858, 10, 11, 12, 'white', 'blue', 'purpul', 'red', 'black', 'kommineni', 'green', 'yellow', 'pink', 121}\n"
     ]
    }
   ],
   "source": [
    "print(x)"
   ]
  },
  {
   "cell_type": "code",
   "execution_count": 73,
   "id": "2eac4dfa",
   "metadata": {},
   "outputs": [
    {
     "data": {
      "text/plain": [
       "21"
      ]
     },
     "execution_count": 73,
     "metadata": {},
     "output_type": "execute_result"
    }
   ],
   "source": [
    "len(x)"
   ]
  },
  {
   "cell_type": "code",
   "execution_count": null,
   "id": "903e5148",
   "metadata": {},
   "outputs": [],
   "source": []
  },
  {
   "cell_type": "code",
   "execution_count": null,
   "id": "b2f3905b",
   "metadata": {},
   "outputs": [],
   "source": []
  },
  {
   "cell_type": "code",
   "execution_count": 74,
   "id": "7e6397ec",
   "metadata": {},
   "outputs": [],
   "source": [
    "def wishing():\n",
    "    print(\"wishing u all the best\")"
   ]
  },
  {
   "cell_type": "code",
   "execution_count": 75,
   "id": "08f8e945",
   "metadata": {},
   "outputs": [
    {
     "name": "stdout",
     "output_type": "stream",
     "text": [
      "wishing u all the best\n"
     ]
    }
   ],
   "source": [
    "wishing()"
   ]
  },
  {
   "cell_type": "code",
   "execution_count": 76,
   "id": "208d1776",
   "metadata": {},
   "outputs": [
    {
     "ename": "SyntaxError",
     "evalue": "invalid syntax (<ipython-input-76-e71a04f24430>, line 1)",
     "output_type": "error",
     "traceback": [
      "\u001b[1;36m  File \u001b[1;32m\"<ipython-input-76-e71a04f24430>\"\u001b[1;36m, line \u001b[1;32m1\u001b[0m\n\u001b[1;33m    def venkat kommineni():\u001b[0m\n\u001b[1;37m               ^\u001b[0m\n\u001b[1;31mSyntaxError\u001b[0m\u001b[1;31m:\u001b[0m invalid syntax\n"
     ]
    }
   ],
   "source": [
    "def venkat kommineni():\n",
    "    print('just complete his first year btech')"
   ]
  },
  {
   "cell_type": "code",
   "execution_count": 77,
   "id": "f65fbc60",
   "metadata": {},
   "outputs": [],
   "source": [
    "def venkat_kommineni():\n",
    "    print(\"doing his btech in niit collage\")"
   ]
  },
  {
   "cell_type": "code",
   "execution_count": 80,
   "id": "19d4698d",
   "metadata": {},
   "outputs": [
    {
     "name": "stdout",
     "output_type": "stream",
     "text": [
      "doing his btech in niit collage\n"
     ]
    }
   ],
   "source": [
    "venkat_kommineni()"
   ]
  },
  {
   "cell_type": "code",
   "execution_count": null,
   "id": "1d42f11c",
   "metadata": {},
   "outputs": [],
   "source": []
  },
  {
   "cell_type": "code",
   "execution_count": 81,
   "id": "aa457a68",
   "metadata": {},
   "outputs": [],
   "source": [
    "def information():\n",
    "    print(\"don't play cricket every day only for 10 th class\")"
   ]
  },
  {
   "cell_type": "code",
   "execution_count": 82,
   "id": "4b3aff5d",
   "metadata": {},
   "outputs": [
    {
     "name": "stdout",
     "output_type": "stream",
     "text": [
      "don't play cricket every day only for 10 th class\n"
     ]
    }
   ],
   "source": [
    "information()"
   ]
  },
  {
   "cell_type": "code",
   "execution_count": null,
   "id": "a7cb9c56",
   "metadata": {},
   "outputs": [],
   "source": []
  },
  {
   "cell_type": "code",
   "execution_count": 83,
   "id": "418c7532",
   "metadata": {},
   "outputs": [],
   "source": [
    "def phone():\n",
    "    print(\"kommineni venkat using oppo mobile phone\")"
   ]
  },
  {
   "cell_type": "code",
   "execution_count": 84,
   "id": "8ea0a92c",
   "metadata": {},
   "outputs": [
    {
     "name": "stdout",
     "output_type": "stream",
     "text": [
      "kommineni venkat using oppo mobile phone\n"
     ]
    }
   ],
   "source": [
    "phone()"
   ]
  },
  {
   "cell_type": "code",
   "execution_count": null,
   "id": "e3e8ca39",
   "metadata": {},
   "outputs": [],
   "source": []
  },
  {
   "cell_type": "code",
   "execution_count": 95,
   "id": "074d3796",
   "metadata": {},
   "outputs": [],
   "source": [
    "def komminei_venkat():\n",
    "    print(\"hello vishnu this is jai\")\n",
    "    "
   ]
  },
  {
   "cell_type": "code",
   "execution_count": 98,
   "id": "6649e1e2",
   "metadata": {},
   "outputs": [
    {
     "name": "stdout",
     "output_type": "stream",
     "text": [
      "hello vishnu this is jai\n"
     ]
    }
   ],
   "source": [
    "komminei_venkat()"
   ]
  },
  {
   "cell_type": "code",
   "execution_count": null,
   "id": "44fee8af",
   "metadata": {},
   "outputs": [],
   "source": []
  },
  {
   "cell_type": "code",
   "execution_count": null,
   "id": "f831c7dd",
   "metadata": {},
   "outputs": [],
   "source": []
  },
  {
   "cell_type": "code",
   "execution_count": 100,
   "id": "a8970026",
   "metadata": {},
   "outputs": [],
   "source": [
    "def greet_username(user):\n",
    "    \"creating a function for greeting the venkat\"\n",
    "    print(f\"hello good to see u,{user.upper}\")"
   ]
  },
  {
   "cell_type": "code",
   "execution_count": 106,
   "id": "8782be10",
   "metadata": {},
   "outputs": [
    {
     "ename": "TypeError",
     "evalue": "greet_username() missing 1 required positional argument: 'user'",
     "output_type": "error",
     "traceback": [
      "\u001b[1;31m---------------------------------------------------------------------------\u001b[0m",
      "\u001b[1;31mTypeError\u001b[0m                                 Traceback (most recent call last)",
      "\u001b[1;32m<ipython-input-106-e54395c88a63>\u001b[0m in \u001b[0;36m<module>\u001b[1;34m\u001b[0m\n\u001b[1;32m----> 1\u001b[1;33m \u001b[0mgreet_username\u001b[0m\u001b[1;33m(\u001b[0m\u001b[1;33m)\u001b[0m\u001b[1;33m\u001b[0m\u001b[1;33m\u001b[0m\u001b[0m\n\u001b[0m",
      "\u001b[1;31mTypeError\u001b[0m: greet_username() missing 1 required positional argument: 'user'"
     ]
    }
   ],
   "source": [
    "greet_username()"
   ]
  },
  {
   "cell_type": "code",
   "execution_count": null,
   "id": "efcf1890",
   "metadata": {},
   "outputs": [],
   "source": []
  },
  {
   "cell_type": "code",
   "execution_count": 107,
   "id": "2c618234",
   "metadata": {},
   "outputs": [],
   "source": [
    "def kommineni_venkat(vishnu):\n",
    "    'wishing mr vishnu vardhan'\n",
    "    print(f\"happy birthday my dear,{vishnu.upper()}\")"
   ]
  },
  {
   "cell_type": "code",
   "execution_count": 113,
   "id": "2e1a47c3",
   "metadata": {},
   "outputs": [
    {
     "name": "stdout",
     "output_type": "stream",
     "text": [
      "happy birthday my dear,VISHNU\n"
     ]
    }
   ],
   "source": [
    "kommineni_venkat('vishnu')"
   ]
  },
  {
   "cell_type": "code",
   "execution_count": 114,
   "id": "172e0e9b",
   "metadata": {},
   "outputs": [
    {
     "name": "stdout",
     "output_type": "stream",
     "text": [
      "happy birthday my dear,BALAJI\n"
     ]
    }
   ],
   "source": [
    "kommineni_venkat('balaji')"
   ]
  },
  {
   "cell_type": "code",
   "execution_count": 115,
   "id": "ba041c9d",
   "metadata": {},
   "outputs": [
    {
     "name": "stdout",
     "output_type": "stream",
     "text": [
      "happy birthday my dear,SACHIN\n"
     ]
    }
   ],
   "source": [
    "kommineni_venkat(\"sachin\")"
   ]
  },
  {
   "cell_type": "code",
   "execution_count": 116,
   "id": "5ee9ca5c",
   "metadata": {},
   "outputs": [
    {
     "name": "stdout",
     "output_type": "stream",
     "text": [
      "happy birthday my dear,MAM\n"
     ]
    }
   ],
   "source": [
    "kommineni_venkat('mam')"
   ]
  },
  {
   "cell_type": "code",
   "execution_count": null,
   "id": "ca36ff4e",
   "metadata": {},
   "outputs": [],
   "source": []
  },
  {
   "cell_type": "code",
   "execution_count": 117,
   "id": "2431bcc3",
   "metadata": {},
   "outputs": [],
   "source": [
    "def kommineni_venkat(vishnu):\n",
    "    'wishing mr vishnu vardhan'\n",
    "    print(f\"happy birthday my dear,{vishnu.title()}\")"
   ]
  },
  {
   "cell_type": "code",
   "execution_count": 118,
   "id": "f3e9602e",
   "metadata": {},
   "outputs": [
    {
     "ename": "NameError",
     "evalue": "name 'lavanya' is not defined",
     "output_type": "error",
     "traceback": [
      "\u001b[1;31m---------------------------------------------------------------------------\u001b[0m",
      "\u001b[1;31mNameError\u001b[0m                                 Traceback (most recent call last)",
      "\u001b[1;32m<ipython-input-118-8ea2ae0a7b3d>\u001b[0m in \u001b[0;36m<module>\u001b[1;34m\u001b[0m\n\u001b[1;32m----> 1\u001b[1;33m \u001b[0mkomminei_venkat\u001b[0m\u001b[1;33m(\u001b[0m\u001b[0mlavanya\u001b[0m\u001b[1;33m)\u001b[0m\u001b[1;33m\u001b[0m\u001b[1;33m\u001b[0m\u001b[0m\n\u001b[0m",
      "\u001b[1;31mNameError\u001b[0m: name 'lavanya' is not defined"
     ]
    }
   ],
   "source": [
    "komminei_venkat(lavanya)"
   ]
  },
  {
   "cell_type": "code",
   "execution_count": 121,
   "id": "260e04a4",
   "metadata": {},
   "outputs": [
    {
     "name": "stdout",
     "output_type": "stream",
     "text": [
      "happy birthday my dear,Lavanya Madam Garu\n"
     ]
    }
   ],
   "source": [
    "kommineni_venkat('lavanya madam garu')"
   ]
  },
  {
   "cell_type": "code",
   "execution_count": null,
   "id": "5e89634a",
   "metadata": {},
   "outputs": [],
   "source": []
  },
  {
   "cell_type": "code",
   "execution_count": null,
   "id": "acdfac01",
   "metadata": {},
   "outputs": [],
   "source": []
  },
  {
   "cell_type": "code",
   "execution_count": null,
   "id": "288bfa7f",
   "metadata": {},
   "outputs": [],
   "source": []
  },
  {
   "cell_type": "code",
   "execution_count": 122,
   "id": "8266ae9b",
   "metadata": {},
   "outputs": [
    {
     "name": "stdout",
     "output_type": "stream",
     "text": [
      "how are you12\n",
      "sorry u can't open the account in any bank because u r under age, please wait for untile 17 years\n"
     ]
    }
   ],
   "source": [
    "age=input(\"how are you\")\n",
    "if int(age)>=17:\n",
    "    print('s u can open the bank account in any bank in india')\n",
    "else:\n",
    "    print(\"sorry u can't open the account in any bank because u r under age, please wait for untile 17 years\")"
   ]
  },
  {
   "cell_type": "code",
   "execution_count": null,
   "id": "80bc4d70",
   "metadata": {},
   "outputs": [],
   "source": []
  },
  {
   "cell_type": "code",
   "execution_count": 123,
   "id": "be2e1f6d",
   "metadata": {},
   "outputs": [
    {
     "name": "stdout",
     "output_type": "stream",
     "text": [
      "how are you17\n",
      "s u can open the bank account in any bank in india\n"
     ]
    }
   ],
   "source": [
    "age=input(\"how are you\")\n",
    "if int(age)>=17:\n",
    "    print('s u can open the bank account in any bank in india')\n",
    "else:\n",
    "    print(\"sorry u can't open the account in any bank because u r under age, please wait for untile 17 years\")"
   ]
  },
  {
   "cell_type": "code",
   "execution_count": null,
   "id": "1e5dea14",
   "metadata": {},
   "outputs": [],
   "source": []
  },
  {
   "cell_type": "code",
   "execution_count": 124,
   "id": "5448a7ca",
   "metadata": {},
   "outputs": [
    {
     "name": "stdout",
     "output_type": "stream",
     "text": [
      "how are you22\n",
      "s u can open the bank account in any bank in india\n"
     ]
    }
   ],
   "source": [
    "age=input(\"how are you\")\n",
    "if int(age)>=17:\n",
    "    print('s u can open the bank account in any bank in india')\n",
    "else:\n",
    "    print(\"sorry u can't open the account in any bank because u r under age, please wait for untile 17 years\")"
   ]
  },
  {
   "cell_type": "code",
   "execution_count": null,
   "id": "cf503a19",
   "metadata": {},
   "outputs": [],
   "source": []
  },
  {
   "cell_type": "code",
   "execution_count": null,
   "id": "4e8916bf",
   "metadata": {},
   "outputs": [],
   "source": []
  },
  {
   "cell_type": "code",
   "execution_count": null,
   "id": "f9f5585f",
   "metadata": {},
   "outputs": [],
   "source": [
    "percentage=input('how much percentage u got')\n",
    "if int(percentage)>=60:\n",
    "    print('u get addmission in this campus u must cross th 60 ptg in preveious class')\n",
    "else:\n",
    "    print('better luck next time , sorry for this time')"
   ]
  },
  {
   "cell_type": "code",
   "execution_count": null,
   "id": "baa1893d",
   "metadata": {},
   "outputs": [],
   "source": [
    "# mam its not going to run ,,y "
   ]
  },
  {
   "cell_type": "code",
   "execution_count": null,
   "id": "055bd86c",
   "metadata": {},
   "outputs": [],
   "source": []
  },
  {
   "cell_type": "code",
   "execution_count": null,
   "id": "837b1da8",
   "metadata": {},
   "outputs": [],
   "source": []
  },
  {
   "cell_type": "code",
   "execution_count": null,
   "id": "5f82c6bd",
   "metadata": {},
   "outputs": [],
   "source": []
  },
  {
   "cell_type": "code",
   "execution_count": null,
   "id": "b8fe10b5",
   "metadata": {},
   "outputs": [],
   "source": []
  },
  {
   "cell_type": "code",
   "execution_count": null,
   "id": "b8141b24",
   "metadata": {},
   "outputs": [],
   "source": []
  },
  {
   "cell_type": "code",
   "execution_count": null,
   "id": "ef0bd49c",
   "metadata": {},
   "outputs": [],
   "source": []
  },
  {
   "cell_type": "code",
   "execution_count": null,
   "id": "f360946c",
   "metadata": {},
   "outputs": [],
   "source": []
  }
 ],
 "metadata": {
  "kernelspec": {
   "display_name": "Python 3",
   "language": "python",
   "name": "python3"
  },
  "language_info": {
   "codemirror_mode": {
    "name": "ipython",
    "version": 3
   },
   "file_extension": ".py",
   "mimetype": "text/x-python",
   "name": "python",
   "nbconvert_exporter": "python",
   "pygments_lexer": "ipython3",
   "version": "3.8.8"
  }
 },
 "nbformat": 4,
 "nbformat_minor": 5
}
