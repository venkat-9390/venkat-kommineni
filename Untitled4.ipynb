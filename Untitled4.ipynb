{
 "cells": [
  {
   "cell_type": "markdown",
   "id": "8e9ef008",
   "metadata": {},
   "source": [
    "#day.........4"
   ]
  },
  {
   "cell_type": "code",
   "execution_count": 1,
   "id": "358229ca",
   "metadata": {},
   "outputs": [],
   "source": [
    "my_mom='prameela'"
   ]
  },
  {
   "cell_type": "code",
   "execution_count": 2,
   "id": "5d53b92c",
   "metadata": {},
   "outputs": [],
   "source": [
    "my_dad='ramanaiah'"
   ]
  },
  {
   "cell_type": "code",
   "execution_count": 3,
   "id": "1db59858",
   "metadata": {},
   "outputs": [],
   "source": [
    "my_parents=f\"{my_dad}{my_mom}\""
   ]
  },
  {
   "cell_type": "code",
   "execution_count": 4,
   "id": "ea360279",
   "metadata": {},
   "outputs": [
    {
     "name": "stdout",
     "output_type": "stream",
     "text": [
      "ramanaiahprameela\n"
     ]
    }
   ],
   "source": [
    "print(my_parents)"
   ]
  },
  {
   "cell_type": "code",
   "execution_count": 5,
   "id": "4919d488",
   "metadata": {},
   "outputs": [
    {
     "name": "stdout",
     "output_type": "stream",
     "text": [
      "Ramanaiahprameela\n"
     ]
    }
   ],
   "source": [
    "print(my_parents.title())"
   ]
  },
  {
   "cell_type": "code",
   "execution_count": 6,
   "id": "ceb6786a",
   "metadata": {},
   "outputs": [
    {
     "name": "stdout",
     "output_type": "stream",
     "text": [
      "RAMANAIAHPRAMEELA\n"
     ]
    }
   ],
   "source": [
    "print(my_parents.upper())"
   ]
  },
  {
   "cell_type": "code",
   "execution_count": 7,
   "id": "bea8db73",
   "metadata": {},
   "outputs": [
    {
     "data": {
      "text/plain": [
       "str"
      ]
     },
     "execution_count": 7,
     "metadata": {},
     "output_type": "execute_result"
    }
   ],
   "source": [
    "type(my_parents)"
   ]
  },
  {
   "cell_type": "code",
   "execution_count": 11,
   "id": "17832c97",
   "metadata": {},
   "outputs": [
    {
     "name": "stdout",
     "output_type": "stream",
     "text": [
      "ramanaih,prameela\n"
     ]
    }
   ],
   "source": [
    "print(my_parents.lstrip())"
   ]
  },
  {
   "cell_type": "code",
   "execution_count": 13,
   "id": "66b3c1f2",
   "metadata": {},
   "outputs": [
    {
     "name": "stdout",
     "output_type": "stream",
     "text": [
      "ramanaih,prameela\n"
     ]
    }
   ],
   "source": [
    "print(my_parents.rstrip())"
   ]
  },
  {
   "cell_type": "code",
   "execution_count": null,
   "id": "836abfd7",
   "metadata": {},
   "outputs": [],
   "source": [
    "\n",
    "\n"
   ]
  },
  {
   "cell_type": "code",
   "execution_count": 18,
   "id": "5b1cec20",
   "metadata": {},
   "outputs": [],
   "source": [
    "#intro about adding whitespace"
   ]
  },
  {
   "cell_type": "code",
   "execution_count": 19,
   "id": "f9dbd182",
   "metadata": {},
   "outputs": [
    {
     "name": "stdout",
     "output_type": "stream",
     "text": [
      "kommineni venkat\n"
     ]
    }
   ],
   "source": [
    "print(\"kommineni venkat\")"
   ]
  },
  {
   "cell_type": "code",
   "execution_count": 20,
   "id": "a34c7596",
   "metadata": {},
   "outputs": [
    {
     "name": "stdout",
     "output_type": "stream",
     "text": [
      "/tkommineni venkat\n"
     ]
    }
   ],
   "source": [
    "print('/tkommineni venkat')"
   ]
  },
  {
   "cell_type": "code",
   "execution_count": 21,
   "id": "0220cf0e",
   "metadata": {},
   "outputs": [
    {
     "ename": "SyntaxError",
     "evalue": "EOL while scanning string literal (<ipython-input-21-2eef24fa6f31>, line 1)",
     "output_type": "error",
     "traceback": [
      "\u001b[1;36m  File \u001b[1;32m\"<ipython-input-21-2eef24fa6f31>\"\u001b[1;36m, line \u001b[1;32m1\u001b[0m\n\u001b[1;33m    print(\"           kommineni venkat is doing his btech in niit college at rajestan in india\u001b[0m\n\u001b[1;37m                                                                                               ^\u001b[0m\n\u001b[1;31mSyntaxError\u001b[0m\u001b[1;31m:\u001b[0m EOL while scanning string literal\n"
     ]
    }
   ],
   "source": [
    "print(\"           kommineni venkat is doing his btech in niit college at rajestan in india \n",
    "      and his more instret in learning at python\n",
    "      also ,he is good at playing cricket and big fan 'ntr' ,'virat'and also like movies very much \")"
   ]
  },
  {
   "cell_type": "code",
   "execution_count": 22,
   "id": "bd1a5f61",
   "metadata": {},
   "outputs": [],
   "source": [
    "#    .....................>mam here i think i didn't do ant mistake even tho it showing some error expalin it once"
   ]
  },
  {
   "cell_type": "code",
   "execution_count": null,
   "id": "5e3f9c9d",
   "metadata": {},
   "outputs": [],
   "source": []
  },
  {
   "cell_type": "code",
   "execution_count": null,
   "id": "86a00e7c",
   "metadata": {},
   "outputs": [],
   "source": []
  },
  {
   "cell_type": "code",
   "execution_count": null,
   "id": "64425660",
   "metadata": {},
   "outputs": [],
   "source": [
    "\n"
   ]
  },
  {
   "cell_type": "code",
   "execution_count": 24,
   "id": "5e1400ac",
   "metadata": {},
   "outputs": [],
   "source": [
    "boys=['jai','sriram','ajay','krishna']"
   ]
  },
  {
   "cell_type": "code",
   "execution_count": 25,
   "id": "caa52f73",
   "metadata": {},
   "outputs": [
    {
     "name": "stdout",
     "output_type": "stream",
     "text": [
      "['jai', 'sriram', 'ajay', 'krishna']\n"
     ]
    }
   ],
   "source": [
    "print(boys)"
   ]
  },
  {
   "cell_type": "code",
   "execution_count": 29,
   "id": "9b0763ad",
   "metadata": {},
   "outputs": [],
   "source": [
    "boys.append('ram')"
   ]
  },
  {
   "cell_type": "code",
   "execution_count": 30,
   "id": "f52827ef",
   "metadata": {},
   "outputs": [
    {
     "name": "stdout",
     "output_type": "stream",
     "text": [
      "['jai', 'sriram', 'ajay', 'krishna', 'ram']\n"
     ]
    }
   ],
   "source": [
    "print(boys)"
   ]
  },
  {
   "cell_type": "code",
   "execution_count": 36,
   "id": "33cb1f92",
   "metadata": {},
   "outputs": [
    {
     "ename": "TypeError",
     "evalue": "append() takes exactly one argument (4 given)",
     "output_type": "error",
     "traceback": [
      "\u001b[1;31m---------------------------------------------------------------------------\u001b[0m",
      "\u001b[1;31mTypeError\u001b[0m                                 Traceback (most recent call last)",
      "\u001b[1;32m<ipython-input-36-3b0ef55c19e4>\u001b[0m in \u001b[0;36m<module>\u001b[1;34m\u001b[0m\n\u001b[1;32m----> 1\u001b[1;33m \u001b[0mboys\u001b[0m\u001b[1;33m.\u001b[0m\u001b[0mappend\u001b[0m\u001b[1;33m(\u001b[0m\u001b[1;34m'ram'\u001b[0m\u001b[1;33m,\u001b[0m\u001b[1;34m'vishnu'\u001b[0m\u001b[1;33m,\u001b[0m\u001b[1;34m'balaji'\u001b[0m\u001b[1;33m,\u001b[0m\u001b[1;34m'sachin'\u001b[0m\u001b[1;33m)\u001b[0m\u001b[1;33m\u001b[0m\u001b[1;33m\u001b[0m\u001b[0m\n\u001b[0m",
      "\u001b[1;31mTypeError\u001b[0m: append() takes exactly one argument (4 given)"
     ]
    }
   ],
   "source": [
    "boys.append('ram','vishnu','balaji','sachin')   ..........................>mam what happend here......?????????????"
   ]
  },
  {
   "cell_type": "code",
   "execution_count": 37,
   "id": "2e16ef1a",
   "metadata": {},
   "outputs": [],
   "source": [
    "boys.append('balaji')"
   ]
  },
  {
   "cell_type": "code",
   "execution_count": 38,
   "id": "f8f4632d",
   "metadata": {},
   "outputs": [
    {
     "name": "stdout",
     "output_type": "stream",
     "text": [
      "['jai', 'sriram', 'ajay', 'krishna', 'ram', 'vishnu,vardhan,balaji', 'balaji']\n"
     ]
    }
   ],
   "source": [
    "print(boys)"
   ]
  },
  {
   "cell_type": "code",
   "execution_count": 39,
   "id": "33b1a350",
   "metadata": {},
   "outputs": [],
   "source": [
    "boys.append('sachin')"
   ]
  },
  {
   "cell_type": "code",
   "execution_count": 40,
   "id": "e796222c",
   "metadata": {},
   "outputs": [
    {
     "name": "stdout",
     "output_type": "stream",
     "text": [
      "['jai', 'sriram', 'ajay', 'krishna', 'ram', 'vishnu,vardhan,balaji', 'balaji', 'sachin']\n"
     ]
    }
   ],
   "source": [
    "print(boys)"
   ]
  },
  {
   "cell_type": "code",
   "execution_count": 42,
   "id": "a3eb91bc",
   "metadata": {},
   "outputs": [],
   "source": [
    "boys.insert(7,'ramesh')"
   ]
  },
  {
   "cell_type": "code",
   "execution_count": 43,
   "id": "f2d278a4",
   "metadata": {},
   "outputs": [
    {
     "name": "stdout",
     "output_type": "stream",
     "text": [
      "['jai', 'sriram', 'ajay', 'krishna', 'ram', 'vishnu,vardhan,balaji', 'balaji', 'ramesh', 'sachin']\n"
     ]
    }
   ],
   "source": [
    "print(boys)"
   ]
  },
  {
   "cell_type": "code",
   "execution_count": 44,
   "id": "890f7b3c",
   "metadata": {},
   "outputs": [
    {
     "data": {
      "text/plain": [
       "9"
      ]
     },
     "execution_count": 44,
     "metadata": {},
     "output_type": "execute_result"
    }
   ],
   "source": [
    "len(boys)"
   ]
  },
  {
   "cell_type": "code",
   "execution_count": 45,
   "id": "b7a71ca2",
   "metadata": {},
   "outputs": [
    {
     "ename": "AttributeError",
     "evalue": "'list' object has no attribute 'add'",
     "output_type": "error",
     "traceback": [
      "\u001b[1;31m---------------------------------------------------------------------------\u001b[0m",
      "\u001b[1;31mAttributeError\u001b[0m                            Traceback (most recent call last)",
      "\u001b[1;32m<ipython-input-45-b40d058a4602>\u001b[0m in \u001b[0;36m<module>\u001b[1;34m\u001b[0m\n\u001b[1;32m----> 1\u001b[1;33m \u001b[0mboys\u001b[0m\u001b[1;33m.\u001b[0m\u001b[0madd\u001b[0m\u001b[1;33m(\u001b[0m\u001b[1;34m'suresh'\u001b[0m\u001b[1;33m)\u001b[0m\u001b[1;33m\u001b[0m\u001b[1;33m\u001b[0m\u001b[0m\n\u001b[0m",
      "\u001b[1;31mAttributeError\u001b[0m: 'list' object has no attribute 'add'"
     ]
    }
   ],
   "source": [
    "boys.add('suresh')"
   ]
  },
  {
   "cell_type": "code",
   "execution_count": 46,
   "id": "d95c9773",
   "metadata": {},
   "outputs": [],
   "source": [
    "boys[5]='karthik'"
   ]
  },
  {
   "cell_type": "code",
   "execution_count": 47,
   "id": "669af872",
   "metadata": {},
   "outputs": [
    {
     "name": "stdout",
     "output_type": "stream",
     "text": [
      "['jai', 'sriram', 'ajay', 'krishna', 'ram', 'karthik', 'balaji', 'ramesh', 'sachin']\n"
     ]
    }
   ],
   "source": [
    "print(boys)"
   ]
  },
  {
   "cell_type": "code",
   "execution_count": 48,
   "id": "ce2f37d7",
   "metadata": {},
   "outputs": [
    {
     "data": {
      "text/plain": [
       "'krishna'"
      ]
     },
     "execution_count": 48,
     "metadata": {},
     "output_type": "execute_result"
    }
   ],
   "source": [
    "boys.pop(3)"
   ]
  },
  {
   "cell_type": "code",
   "execution_count": 49,
   "id": "c0d18b49",
   "metadata": {},
   "outputs": [
    {
     "name": "stdout",
     "output_type": "stream",
     "text": [
      "['jai', 'sriram', 'ajay', 'ram', 'karthik', 'balaji', 'ramesh', 'sachin']\n"
     ]
    }
   ],
   "source": [
    "print(boys)"
   ]
  },
  {
   "cell_type": "code",
   "execution_count": 50,
   "id": "d4e19f04",
   "metadata": {},
   "outputs": [],
   "source": [
    "boys.append('ramarao')"
   ]
  },
  {
   "cell_type": "code",
   "execution_count": 51,
   "id": "a27f8a29",
   "metadata": {},
   "outputs": [
    {
     "name": "stdout",
     "output_type": "stream",
     "text": [
      "['jai', 'sriram', 'ajay', 'ram', 'karthik', 'balaji', 'ramesh', 'sachin', 'ramarao']\n"
     ]
    }
   ],
   "source": [
    "print(boys)"
   ]
  },
  {
   "cell_type": "code",
   "execution_count": 52,
   "id": "43d2badd",
   "metadata": {},
   "outputs": [],
   "source": [
    "boys.sort()"
   ]
  },
  {
   "cell_type": "code",
   "execution_count": 53,
   "id": "2e46ad44",
   "metadata": {},
   "outputs": [
    {
     "name": "stdout",
     "output_type": "stream",
     "text": [
      "['ajay', 'balaji', 'jai', 'karthik', 'ram', 'ramarao', 'ramesh', 'sachin', 'sriram']\n"
     ]
    }
   ],
   "source": [
    "print(boys)"
   ]
  },
  {
   "cell_type": "code",
   "execution_count": 54,
   "id": "5c8f4917",
   "metadata": {},
   "outputs": [],
   "source": [
    "boys.reverse()"
   ]
  },
  {
   "cell_type": "code",
   "execution_count": 55,
   "id": "9f740999",
   "metadata": {},
   "outputs": [
    {
     "name": "stdout",
     "output_type": "stream",
     "text": [
      "['sriram', 'sachin', 'ramesh', 'ramarao', 'ram', 'karthik', 'jai', 'balaji', 'ajay']\n"
     ]
    }
   ],
   "source": [
    "print(boys)"
   ]
  },
  {
   "cell_type": "code",
   "execution_count": 56,
   "id": "881d16ad",
   "metadata": {},
   "outputs": [
    {
     "data": {
      "text/plain": [
       "'ramesh'"
      ]
     },
     "execution_count": 56,
     "metadata": {},
     "output_type": "execute_result"
    }
   ],
   "source": [
    "boys.pop(2)"
   ]
  },
  {
   "cell_type": "code",
   "execution_count": 57,
   "id": "1d599f4e",
   "metadata": {},
   "outputs": [
    {
     "name": "stdout",
     "output_type": "stream",
     "text": [
      "['sriram', 'sachin', 'ramarao', 'ram', 'karthik', 'jai', 'balaji', 'ajay']\n"
     ]
    }
   ],
   "source": [
    "print(boys)"
   ]
  },
  {
   "cell_type": "code",
   "execution_count": 58,
   "id": "c344bc8f",
   "metadata": {},
   "outputs": [
    {
     "data": {
      "text/plain": [
       "'jai'"
      ]
     },
     "execution_count": 58,
     "metadata": {},
     "output_type": "execute_result"
    }
   ],
   "source": [
    "boys.pop(-3)"
   ]
  },
  {
   "cell_type": "code",
   "execution_count": 59,
   "id": "ce32141f",
   "metadata": {},
   "outputs": [
    {
     "name": "stdout",
     "output_type": "stream",
     "text": [
      "['sriram', 'sachin', 'ramarao', 'ram', 'karthik', 'balaji', 'ajay']\n"
     ]
    }
   ],
   "source": [
    "print(boys)"
   ]
  },
  {
   "cell_type": "code",
   "execution_count": null,
   "id": "8117e438",
   "metadata": {},
   "outputs": [],
   "source": []
  },
  {
   "cell_type": "code",
   "execution_count": null,
   "id": "b90407ab",
   "metadata": {},
   "outputs": [],
   "source": []
  },
  {
   "cell_type": "code",
   "execution_count": 60,
   "id": "6aa97a2d",
   "metadata": {},
   "outputs": [],
   "source": [
    "fruits=['apple','grapes','mango','dates','guva',]"
   ]
  },
  {
   "cell_type": "code",
   "execution_count": 61,
   "id": "02beea3c",
   "metadata": {},
   "outputs": [],
   "source": [
    "vegatables=['carrot','beetroot','brinjal','ladyfinger','cabbage','leafyveg']"
   ]
  },
  {
   "cell_type": "code",
   "execution_count": 62,
   "id": "9a699a1a",
   "metadata": {},
   "outputs": [],
   "source": [
    "fruits=vegatables"
   ]
  },
  {
   "cell_type": "code",
   "execution_count": 63,
   "id": "739677b4",
   "metadata": {},
   "outputs": [
    {
     "name": "stdout",
     "output_type": "stream",
     "text": [
      "['carrot', 'beetroot', 'brinjal', 'ladyfinger', 'cabbage', 'leafyveg']\n"
     ]
    }
   ],
   "source": [
    "print(fruits)"
   ]
  },
  {
   "cell_type": "code",
   "execution_count": 64,
   "id": "5b8718cb",
   "metadata": {},
   "outputs": [
    {
     "name": "stdout",
     "output_type": "stream",
     "text": [
      "['carrot', 'beetroot', 'brinjal', 'ladyfinger', 'cabbage', 'leafyveg']\n"
     ]
    }
   ],
   "source": [
    "print(vegatables)"
   ]
  },
  {
   "cell_type": "code",
   "execution_count": 65,
   "id": "84001602",
   "metadata": {},
   "outputs": [
    {
     "name": "stdout",
     "output_type": "stream",
     "text": [
      "['carrot', 'beetroot', 'brinjal', 'ladyfinger', 'cabbage', 'leafyveg']\n"
     ]
    },
    {
     "ename": "TypeError",
     "evalue": "'NoneType' object is not subscriptable",
     "output_type": "error",
     "traceback": [
      "\u001b[1;31m---------------------------------------------------------------------------\u001b[0m",
      "\u001b[1;31mTypeError\u001b[0m                                 Traceback (most recent call last)",
      "\u001b[1;32m<ipython-input-65-d5f881772de7>\u001b[0m in \u001b[0;36m<module>\u001b[1;34m\u001b[0m\n\u001b[1;32m----> 1\u001b[1;33m \u001b[0mprint\u001b[0m\u001b[1;33m(\u001b[0m\u001b[0mfruits\u001b[0m\u001b[1;33m)\u001b[0m\u001b[1;33m[\u001b[0m\u001b[1;36m0\u001b[0m\u001b[1;33m:\u001b[0m\u001b[1;36m3\u001b[0m\u001b[1;33m]\u001b[0m\u001b[1;33m\u001b[0m\u001b[1;33m\u001b[0m\u001b[0m\n\u001b[0m",
      "\u001b[1;31mTypeError\u001b[0m: 'NoneType' object is not subscriptable"
     ]
    }
   ],
   "source": [
    "print(fruits)[0:3]"
   ]
  },
  {
   "cell_type": "code",
   "execution_count": 66,
   "id": "51656992",
   "metadata": {},
   "outputs": [],
   "source": [
    "#loop statements"
   ]
  },
  {
   "cell_type": "code",
   "execution_count": 67,
   "id": "b8867976",
   "metadata": {},
   "outputs": [],
   "source": [
    "items=['pens','books','phones','bottles','laptop','cables']"
   ]
  },
  {
   "cell_type": "code",
   "execution_count": 68,
   "id": "c95676b8",
   "metadata": {},
   "outputs": [
    {
     "name": "stdout",
     "output_type": "stream",
     "text": [
      "['pens', 'books', 'phones', 'bottles', 'laptop', 'cables']\n"
     ]
    }
   ],
   "source": [
    "print(items)"
   ]
  },
  {
   "cell_type": "code",
   "execution_count": 71,
   "id": "345eab19",
   "metadata": {},
   "outputs": [
    {
     "name": "stdout",
     "output_type": "stream",
     "text": [
      "pens\n",
      "books\n",
      "phones\n",
      "bottles\n",
      "laptop\n",
      "cables\n"
     ]
    }
   ],
   "source": [
    "for venkat in items:\n",
    "    print(venkat)\n"
   ]
  },
  {
   "cell_type": "code",
   "execution_count": 72,
   "id": "c3b72906",
   "metadata": {},
   "outputs": [
    {
     "name": "stdout",
     "output_type": "stream",
     "text": [
      "PENS\n",
      "BOOKS\n",
      "PHONES\n",
      "BOTTLES\n",
      "LAPTOP\n",
      "CABLES\n"
     ]
    }
   ],
   "source": [
    "for venkat in items:\n",
    "    print(venkat.upper())"
   ]
  },
  {
   "cell_type": "code",
   "execution_count": 75,
   "id": "28918bfa",
   "metadata": {},
   "outputs": [
    {
     "name": "stdout",
     "output_type": "stream",
     "text": [
      "Pens\n",
      "Books\n",
      "Phones\n",
      "Bottles\n",
      "Laptop\n",
      "Cables\n"
     ]
    }
   ],
   "source": [
    "for venkat in items:\n",
    "    print(venkat.title())"
   ]
  },
  {
   "cell_type": "code",
   "execution_count": null,
   "id": "3572a5fa",
   "metadata": {},
   "outputs": [],
   "source": []
  },
  {
   "cell_type": "code",
   "execution_count": null,
   "id": "f886ff10",
   "metadata": {},
   "outputs": [],
   "source": []
  }
 ],
 "metadata": {
  "kernelspec": {
   "display_name": "Python 3",
   "language": "python",
   "name": "python3"
  },
  "language_info": {
   "codemirror_mode": {
    "name": "ipython",
    "version": 3
   },
   "file_extension": ".py",
   "mimetype": "text/x-python",
   "name": "python",
   "nbconvert_exporter": "python",
   "pygments_lexer": "ipython3",
   "version": "3.8.8"
  }
 },
 "nbformat": 4,
 "nbformat_minor": 5
}
