{
 "cells": [
  {
   "cell_type": "code",
   "execution_count": 1,
   "id": "5f0ab67a",
   "metadata": {},
   "outputs": [
    {
     "name": "stdout",
     "output_type": "stream",
     "text": [
      "kommineni venakt\n"
     ]
    }
   ],
   "source": [
    "print('kommineni venakt')"
   ]
  },
  {
   "cell_type": "code",
   "execution_count": 2,
   "id": "d8bc2c5b",
   "metadata": {},
   "outputs": [
    {
     "name": "stdout",
     "output_type": "stream",
     "text": [
      "\tpython\n"
     ]
    }
   ],
   "source": [
    "print('\\tpython')"
   ]
  },
  {
   "cell_type": "code",
   "execution_count": 3,
   "id": "7813d611",
   "metadata": {},
   "outputs": [
    {
     "name": "stdout",
     "output_type": "stream",
     "text": [
      "                kaommineni\n"
     ]
    }
   ],
   "source": [
    "print('                kaommineni')"
   ]
  },
  {
   "cell_type": "code",
   "execution_count": 20,
   "id": "a8bdedca",
   "metadata": {},
   "outputs": [
    {
     "name": "stdout",
     "output_type": "stream",
     "text": [
      "things:\n",
      "\tpen\n",
      "\tpencil\n",
      "\tcap\n",
      "\tearser\n"
     ]
    }
   ],
   "source": [
    "print('things:\\n\\tpen\\n\\tpencil\\n\\tcap\\n\\tearser')"
   ]
  },
  {
   "cell_type": "code",
   "execution_count": 1,
   "id": "d72be030",
   "metadata": {},
   "outputs": [],
   "source": [
    "# today iam going to do about tuple:-"
   ]
  },
  {
   "cell_type": "code",
   "execution_count": 2,
   "id": "e8bdb490",
   "metadata": {},
   "outputs": [],
   "source": [
    "players=('kohli','dhoni','D.karthik','ABD','warner','russel','bravo','rohit','dhawan','k.l.rahul','bhui')"
   ]
  },
  {
   "cell_type": "code",
   "execution_count": 3,
   "id": "5f50987a",
   "metadata": {},
   "outputs": [
    {
     "name": "stdout",
     "output_type": "stream",
     "text": [
      "('kohli', 'dhoni', 'D.karthik', 'ABD', 'warner', 'russel', 'bravo', 'rohit', 'dhawan', 'k.l.rahul', 'bhui')\n"
     ]
    }
   ],
   "source": [
    "print(players)"
   ]
  },
  {
   "cell_type": "code",
   "execution_count": 4,
   "id": "0c1aae56",
   "metadata": {},
   "outputs": [
    {
     "data": {
      "text/plain": [
       "tuple"
      ]
     },
     "execution_count": 4,
     "metadata": {},
     "output_type": "execute_result"
    }
   ],
   "source": [
    "type(players)"
   ]
  },
  {
   "cell_type": "code",
   "execution_count": 5,
   "id": "3c94c4ae",
   "metadata": {},
   "outputs": [
    {
     "data": {
      "text/plain": [
       "11"
      ]
     },
     "execution_count": 5,
     "metadata": {},
     "output_type": "execute_result"
    }
   ],
   "source": [
    "len(players)"
   ]
  },
  {
   "cell_type": "code",
   "execution_count": 6,
   "id": "a431b5b4",
   "metadata": {},
   "outputs": [
    {
     "data": {
      "text/plain": [
       "('kohli', 'dhoni', 'D.karthik', 'ABD', 'warner')"
      ]
     },
     "execution_count": 6,
     "metadata": {},
     "output_type": "execute_result"
    }
   ],
   "source": [
    "players[:5]"
   ]
  },
  {
   "cell_type": "code",
   "execution_count": null,
   "id": "3c48fccc",
   "metadata": {},
   "outputs": [],
   "source": []
  },
  {
   "cell_type": "code",
   "execution_count": 33,
   "id": "ded263c9",
   "metadata": {},
   "outputs": [],
   "source": [
    "girls=('lavanya','kavya','siri','aruna')"
   ]
  },
  {
   "cell_type": "code",
   "execution_count": 34,
   "id": "11022ddd",
   "metadata": {},
   "outputs": [
    {
     "name": "stdout",
     "output_type": "stream",
     "text": [
      "('lavanya', 'kavya', 'siri', 'aruna')\n"
     ]
    }
   ],
   "source": [
    "print(girls)"
   ]
  },
  {
   "cell_type": "code",
   "execution_count": 35,
   "id": "45cd5ab3",
   "metadata": {},
   "outputs": [
    {
     "data": {
      "text/plain": [
       "tuple"
      ]
     },
     "execution_count": 35,
     "metadata": {},
     "output_type": "execute_result"
    }
   ],
   "source": [
    "type(girls)"
   ]
  },
  {
   "cell_type": "code",
   "execution_count": 36,
   "id": "0b977b74",
   "metadata": {},
   "outputs": [
    {
     "ename": "NameError",
     "evalue": "name 'girl' is not defined",
     "output_type": "error",
     "traceback": [
      "\u001b[1;31m---------------------------------------------------------------------------\u001b[0m",
      "\u001b[1;31mNameError\u001b[0m                                 Traceback (most recent call last)",
      "\u001b[1;32m<ipython-input-36-f5ab89fe685b>\u001b[0m in \u001b[0;36m<module>\u001b[1;34m\u001b[0m\n\u001b[1;32m----> 1\u001b[1;33m \u001b[0mgirl\u001b[0m\u001b[1;33m(\u001b[0m\u001b[1;36m5\u001b[0m\u001b[1;33m)\u001b[0m\u001b[1;33m\u001b[0m\u001b[1;33m\u001b[0m\u001b[0m\n\u001b[0m",
      "\u001b[1;31mNameError\u001b[0m: name 'girl' is not defined"
     ]
    }
   ],
   "source": [
    "girl(5)"
   ]
  },
  {
   "cell_type": "code",
   "execution_count": 37,
   "id": "3c953143",
   "metadata": {},
   "outputs": [
    {
     "ename": "TypeError",
     "evalue": "'tuple' object is not callable",
     "output_type": "error",
     "traceback": [
      "\u001b[1;31m---------------------------------------------------------------------------\u001b[0m",
      "\u001b[1;31mTypeError\u001b[0m                                 Traceback (most recent call last)",
      "\u001b[1;32m<ipython-input-37-3fc18926fb05>\u001b[0m in \u001b[0;36m<module>\u001b[1;34m\u001b[0m\n\u001b[1;32m----> 1\u001b[1;33m \u001b[0mgirls\u001b[0m\u001b[1;33m(\u001b[0m\u001b[1;36m2\u001b[0m\u001b[1;33m)\u001b[0m\u001b[1;33m\u001b[0m\u001b[1;33m\u001b[0m\u001b[0m\n\u001b[0m",
      "\u001b[1;31mTypeError\u001b[0m: 'tuple' object is not callable"
     ]
    }
   ],
   "source": [
    "girls(2)"
   ]
  },
  {
   "cell_type": "code",
   "execution_count": null,
   "id": "cff7b7ad",
   "metadata": {},
   "outputs": [],
   "source": []
  },
  {
   "cell_type": "code",
   "execution_count": 38,
   "id": "22d1c29d",
   "metadata": {},
   "outputs": [],
   "source": [
    "x=(1,2,5,5,7,9,5,)"
   ]
  },
  {
   "cell_type": "code",
   "execution_count": 39,
   "id": "91eeff5b",
   "metadata": {},
   "outputs": [
    {
     "name": "stdout",
     "output_type": "stream",
     "text": [
      "(1, 2, 5, 5, 7, 9, 5)\n"
     ]
    }
   ],
   "source": [
    "print(x)"
   ]
  },
  {
   "cell_type": "code",
   "execution_count": 40,
   "id": "1526c286",
   "metadata": {},
   "outputs": [
    {
     "data": {
      "text/plain": [
       "tuple"
      ]
     },
     "execution_count": 40,
     "metadata": {},
     "output_type": "execute_result"
    }
   ],
   "source": [
    "type(x)"
   ]
  },
  {
   "cell_type": "code",
   "execution_count": 41,
   "id": "8e9c4490",
   "metadata": {},
   "outputs": [
    {
     "data": {
      "text/plain": [
       "7"
      ]
     },
     "execution_count": 41,
     "metadata": {},
     "output_type": "execute_result"
    }
   ],
   "source": [
    "len(x)"
   ]
  },
  {
   "cell_type": "code",
   "execution_count": 42,
   "id": "a50bce7c",
   "metadata": {},
   "outputs": [],
   "source": [
    "a=('jai',2,5,8,'kommineni')"
   ]
  },
  {
   "cell_type": "code",
   "execution_count": 43,
   "id": "3b4e59c2",
   "metadata": {},
   "outputs": [
    {
     "name": "stdout",
     "output_type": "stream",
     "text": [
      "('jai', 2, 5, 8, 'kommineni')\n"
     ]
    }
   ],
   "source": [
    "print(a)"
   ]
  },
  {
   "cell_type": "code",
   "execution_count": 44,
   "id": "e719edf0",
   "metadata": {},
   "outputs": [
    {
     "data": {
      "text/plain": [
       "tuple"
      ]
     },
     "execution_count": 44,
     "metadata": {},
     "output_type": "execute_result"
    }
   ],
   "source": [
    "type(a)"
   ]
  },
  {
   "cell_type": "code",
   "execution_count": 46,
   "id": "694758cf",
   "metadata": {},
   "outputs": [
    {
     "data": {
      "text/plain": [
       "(5, 8, 'kommineni')"
      ]
     },
     "execution_count": 46,
     "metadata": {},
     "output_type": "execute_result"
    }
   ],
   "source": [
    "a[2:]"
   ]
  },
  {
   "cell_type": "code",
   "execution_count": null,
   "id": "0ceefc4e",
   "metadata": {},
   "outputs": [],
   "source": []
  },
  {
   "cell_type": "code",
   "execution_count": null,
   "id": "9112caf1",
   "metadata": {},
   "outputs": [],
   "source": []
  },
  {
   "cell_type": "code",
   "execution_count": null,
   "id": "c8d0f9ca",
   "metadata": {},
   "outputs": [],
   "source": []
  },
  {
   "cell_type": "code",
   "execution_count": null,
   "id": "638f373f",
   "metadata": {},
   "outputs": [],
   "source": []
  },
  {
   "cell_type": "code",
   "execution_count": 7,
   "id": "2273a1ac",
   "metadata": {},
   "outputs": [
    {
     "data": {
      "text/plain": [
       "()"
      ]
     },
     "execution_count": 7,
     "metadata": {},
     "output_type": "execute_result"
    }
   ],
   "source": [
    "players[5:5]                                           # here  i got empty tuple"
   ]
  },
  {
   "cell_type": "code",
   "execution_count": 8,
   "id": "4f79b272",
   "metadata": {},
   "outputs": [
    {
     "data": {
      "text/plain": [
       "('kohli',\n",
       " 'dhoni',\n",
       " 'D.karthik',\n",
       " 'ABD',\n",
       " 'warner',\n",
       " 'russel',\n",
       " 'bravo',\n",
       " 'rohit',\n",
       " 'dhawan',\n",
       " 'k.l.rahul',\n",
       " 'bhui')"
      ]
     },
     "execution_count": 8,
     "metadata": {},
     "output_type": "execute_result"
    }
   ],
   "source": [
    "players[0:12]            ############### ......mam ....>see here and down tooooo"
   ]
  },
  {
   "cell_type": "code",
   "execution_count": 11,
   "id": "44c7ee50",
   "metadata": {},
   "outputs": [
    {
     "data": {
      "text/plain": [
       "('kohli', 'dhoni', 'D.karthik')"
      ]
     },
     "execution_count": 11,
     "metadata": {},
     "output_type": "execute_result"
    }
   ],
   "source": [
    "players[0:3]"
   ]
  },
  {
   "cell_type": "code",
   "execution_count": 12,
   "id": "70d23bf4",
   "metadata": {},
   "outputs": [
    {
     "ename": "SyntaxError",
     "evalue": "unexpected character after line continuation character (<ipython-input-12-68a5f4c8c91c>, line 1)",
     "output_type": "error",
     "traceback": [
      "\u001b[1;36m  File \u001b[1;32m\"<ipython-input-12-68a5f4c8c91c>\"\u001b[1;36m, line \u001b[1;32m1\u001b[0m\n\u001b[1;33m    print(\\tplayers)\u001b[0m\n\u001b[1;37m                    ^\u001b[0m\n\u001b[1;31mSyntaxError\u001b[0m\u001b[1;31m:\u001b[0m unexpected character after line continuation character\n"
     ]
    }
   ],
   "source": [
    "print(\\tplayers)"
   ]
  },
  {
   "cell_type": "code",
   "execution_count": 13,
   "id": "6d2a3d52",
   "metadata": {},
   "outputs": [
    {
     "data": {
      "text/plain": [
       "('russel', 'bravo', 'rohit', 'dhawan', 'k.l.rahul', 'bhui')"
      ]
     },
     "execution_count": 13,
     "metadata": {},
     "output_type": "execute_result"
    }
   ],
   "source": [
    "players[5:]"
   ]
  },
  {
   "cell_type": "code",
   "execution_count": 15,
   "id": "e1719943",
   "metadata": {},
   "outputs": [
    {
     "data": {
      "text/plain": [
       "('kohli',\n",
       " 'dhoni',\n",
       " 'D.karthik',\n",
       " 'ABD',\n",
       " 'warner',\n",
       " 'russel',\n",
       " 'bravo',\n",
       " 'rohit',\n",
       " 'dhawan',\n",
       " 'k.l.rahul',\n",
       " 'bhui')"
      ]
     },
     "execution_count": 15,
     "metadata": {},
     "output_type": "execute_result"
    }
   ],
   "source": [
    "players[0:16]                                                     #############.......here iam not got the point \n",
    "                                                           here i think its over rule the length even tho its give out put like this \n"
   ]
  },
  {
   "cell_type": "code",
   "execution_count": 16,
   "id": "a7ccc320",
   "metadata": {},
   "outputs": [],
   "source": [
    "del players"
   ]
  },
  {
   "cell_type": "code",
   "execution_count": 17,
   "id": "3ddf80a3",
   "metadata": {},
   "outputs": [
    {
     "ename": "NameError",
     "evalue": "name 'players' is not defined",
     "output_type": "error",
     "traceback": [
      "\u001b[1;31m---------------------------------------------------------------------------\u001b[0m",
      "\u001b[1;31mNameError\u001b[0m                                 Traceback (most recent call last)",
      "\u001b[1;32m<ipython-input-17-64897dd5c15a>\u001b[0m in \u001b[0;36m<module>\u001b[1;34m\u001b[0m\n\u001b[1;32m----> 1\u001b[1;33m \u001b[0mprint\u001b[0m\u001b[1;33m(\u001b[0m\u001b[0mplayers\u001b[0m\u001b[1;33m)\u001b[0m\u001b[1;33m\u001b[0m\u001b[1;33m\u001b[0m\u001b[0m\n\u001b[0m",
      "\u001b[1;31mNameError\u001b[0m: name 'players' is not defined"
     ]
    }
   ],
   "source": [
    "print(players)"
   ]
  },
  {
   "cell_type": "code",
   "execution_count": null,
   "id": "c0793456",
   "metadata": {},
   "outputs": [],
   "source": []
  },
  {
   "cell_type": "code",
   "execution_count": 19,
   "id": "a16c95ce",
   "metadata": {},
   "outputs": [],
   "source": [
    "cricketrs=('kohli','dhoni','D.karthik','ABD','warner','russel','bravo','rohit','dhawan','k.l.rahul','bhui')"
   ]
  },
  {
   "cell_type": "code",
   "execution_count": 20,
   "id": "44e3a998",
   "metadata": {},
   "outputs": [
    {
     "name": "stdout",
     "output_type": "stream",
     "text": [
      "('kohli', 'dhoni', 'D.karthik', 'ABD', 'warner', 'russel', 'bravo', 'rohit', 'dhawan', 'k.l.rahul', 'bhui')\n"
     ]
    }
   ],
   "source": [
    "print(cricketrs)"
   ]
  },
  {
   "cell_type": "code",
   "execution_count": 22,
   "id": "89dd1466",
   "metadata": {},
   "outputs": [],
   "source": [
    "rich_persons=cricketrs[:]"
   ]
  },
  {
   "cell_type": "code",
   "execution_count": 23,
   "id": "aa489a4d",
   "metadata": {},
   "outputs": [
    {
     "name": "stdout",
     "output_type": "stream",
     "text": [
      "('kohli', 'dhoni', 'D.karthik', 'ABD', 'warner', 'russel', 'bravo', 'rohit', 'dhawan', 'k.l.rahul', 'bhui')\n"
     ]
    }
   ],
   "source": [
    "print(rich_persons)"
   ]
  },
  {
   "cell_type": "code",
   "execution_count": 24,
   "id": "dfab8b13",
   "metadata": {},
   "outputs": [
    {
     "data": {
      "text/plain": [
       "tuple"
      ]
     },
     "execution_count": 24,
     "metadata": {},
     "output_type": "execute_result"
    }
   ],
   "source": [
    "type(rich_persons)"
   ]
  },
  {
   "cell_type": "code",
   "execution_count": null,
   "id": "dee77ceb",
   "metadata": {},
   "outputs": [],
   "source": []
  },
  {
   "cell_type": "code",
   "execution_count": 25,
   "id": "a791a517",
   "metadata": {},
   "outputs": [
    {
     "ename": "AttributeError",
     "evalue": "'tuple' object has no attribute 'upper'",
     "output_type": "error",
     "traceback": [
      "\u001b[1;31m---------------------------------------------------------------------------\u001b[0m",
      "\u001b[1;31mAttributeError\u001b[0m                            Traceback (most recent call last)",
      "\u001b[1;32m<ipython-input-25-0a9e9177c6c7>\u001b[0m in \u001b[0;36m<module>\u001b[1;34m\u001b[0m\n\u001b[1;32m----> 1\u001b[1;33m \u001b[0mrich_persons\u001b[0m\u001b[1;33m.\u001b[0m\u001b[0mupper\u001b[0m\u001b[1;33m(\u001b[0m\u001b[1;33m)\u001b[0m\u001b[1;33m\u001b[0m\u001b[1;33m\u001b[0m\u001b[0m\n\u001b[0m",
      "\u001b[1;31mAttributeError\u001b[0m: 'tuple' object has no attribute 'upper'"
     ]
    }
   ],
   "source": [
    "rich_persons.upper()"
   ]
  },
  {
   "cell_type": "code",
   "execution_count": 27,
   "id": "0701a8ba",
   "metadata": {},
   "outputs": [
    {
     "ename": "SyntaxError",
     "evalue": "unexpected character after line continuation character (<ipython-input-27-ba98e7218c82>, line 1)",
     "output_type": "error",
     "traceback": [
      "\u001b[1;36m  File \u001b[1;32m\"<ipython-input-27-ba98e7218c82>\"\u001b[1;36m, line \u001b[1;32m1\u001b[0m\n\u001b[1;33m    print(\\n\\trich_persons)\u001b[0m\n\u001b[1;37m                           ^\u001b[0m\n\u001b[1;31mSyntaxError\u001b[0m\u001b[1;31m:\u001b[0m unexpected character after line continuation character\n"
     ]
    }
   ],
   "source": [
    "print(\\n\\trich_persons)"
   ]
  },
  {
   "cell_type": "code",
   "execution_count": 28,
   "id": "2637f385",
   "metadata": {},
   "outputs": [
    {
     "name": "stdout",
     "output_type": "stream",
     "text": [
      "\t\n",
      "     kohli\n"
     ]
    }
   ],
   "source": [
    "print('\\t\\n     kohli')"
   ]
  },
  {
   "cell_type": "code",
   "execution_count": 29,
   "id": "6cefba2f",
   "metadata": {},
   "outputs": [
    {
     "name": "stdout",
     "output_type": "stream",
     "text": [
      "\t    kohli\n"
     ]
    }
   ],
   "source": [
    "print('\\t    kohli')"
   ]
  },
  {
   "cell_type": "code",
   "execution_count": null,
   "id": "38d2aa70",
   "metadata": {},
   "outputs": [],
   "source": []
  },
  {
   "cell_type": "code",
   "execution_count": null,
   "id": "1d5be83f",
   "metadata": {},
   "outputs": [],
   "source": []
  },
  {
   "cell_type": "code",
   "execution_count": null,
   "id": "985be099",
   "metadata": {},
   "outputs": [],
   "source": []
  },
  {
   "cell_type": "code",
   "execution_count": null,
   "id": "939b7da6",
   "metadata": {},
   "outputs": [],
   "source": []
  },
  {
   "cell_type": "code",
   "execution_count": null,
   "id": "f2070e66",
   "metadata": {},
   "outputs": [],
   "source": []
  }
 ],
 "metadata": {
  "kernelspec": {
   "display_name": "Python 3",
   "language": "python",
   "name": "python3"
  },
  "language_info": {
   "codemirror_mode": {
    "name": "ipython",
    "version": 3
   },
   "file_extension": ".py",
   "mimetype": "text/x-python",
   "name": "python",
   "nbconvert_exporter": "python",
   "pygments_lexer": "ipython3",
   "version": "3.8.8"
  }
 },
 "nbformat": 4,
 "nbformat_minor": 5
}
