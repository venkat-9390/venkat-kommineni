{
 "cells": [
  {
   "cell_type": "code",
   "execution_count": 2,
   "id": "4b51375e",
   "metadata": {},
   "outputs": [],
   "source": [
    "# hello madam lavanya :"
   ]
  },
  {
   "cell_type": "code",
   "execution_count": 4,
   "id": "feeb39a2",
   "metadata": {},
   "outputs": [],
   "source": [
    "my_name=\"kommineni venkat\""
   ]
  },
  {
   "cell_type": "code",
   "execution_count": 5,
   "id": "9727ed86",
   "metadata": {},
   "outputs": [
    {
     "name": "stdout",
     "output_type": "stream",
     "text": [
      "kommineni venkat\n"
     ]
    }
   ],
   "source": [
    "print(my_name)"
   ]
  },
  {
   "cell_type": "code",
   "execution_count": 6,
   "id": "668624a8",
   "metadata": {},
   "outputs": [
    {
     "name": "stdout",
     "output_type": "stream",
     "text": [
      "KOMMINENI VENKAT\n"
     ]
    }
   ],
   "source": [
    "print(my_name.upper())"
   ]
  },
  {
   "cell_type": "code",
   "execution_count": 7,
   "id": "14baa95c",
   "metadata": {},
   "outputs": [
    {
     "name": "stdout",
     "output_type": "stream",
     "text": [
      "Kommineni Venkat\n"
     ]
    }
   ],
   "source": [
    "print(my_name.title())"
   ]
  },
  {
   "cell_type": "code",
   "execution_count": 17,
   "id": "9c6beaf4",
   "metadata": {},
   "outputs": [],
   "source": [
    "my_name=[('venkat')]"
   ]
  },
  {
   "cell_type": "code",
   "execution_count": 12,
   "id": "844a5574",
   "metadata": {},
   "outputs": [
    {
     "name": "stdout",
     "output_type": "stream",
     "text": [
      "['venkat']\n"
     ]
    }
   ],
   "source": [
    "print(my_name)"
   ]
  },
  {
   "cell_type": "code",
   "execution_count": 14,
   "id": "354c50ed",
   "metadata": {},
   "outputs": [
    {
     "data": {
      "text/plain": [
       "list"
      ]
     },
     "execution_count": 14,
     "metadata": {},
     "output_type": "execute_result"
    }
   ],
   "source": [
    "type(my_name)"
   ]
  },
  {
   "cell_type": "code",
   "execution_count": null,
   "id": "1114c774",
   "metadata": {},
   "outputs": [],
   "source": []
  },
  {
   "cell_type": "code",
   "execution_count": null,
   "id": "b88d1392",
   "metadata": {},
   "outputs": [],
   "source": []
  },
  {
   "cell_type": "code",
   "execution_count": 21,
   "id": "e10ae111",
   "metadata": {},
   "outputs": [],
   "source": [
    "my_name=\"      kommineni venkat\""
   ]
  },
  {
   "cell_type": "code",
   "execution_count": 22,
   "id": "fee069c5",
   "metadata": {},
   "outputs": [
    {
     "name": "stdout",
     "output_type": "stream",
     "text": [
      "      kommineni venkat\n"
     ]
    }
   ],
   "source": [
    "print(my_name)"
   ]
  },
  {
   "cell_type": "code",
   "execution_count": 23,
   "id": "23c88a68",
   "metadata": {},
   "outputs": [
    {
     "data": {
      "text/plain": [
       "str"
      ]
     },
     "execution_count": 23,
     "metadata": {},
     "output_type": "execute_result"
    }
   ],
   "source": [
    "type(my_name)"
   ]
  },
  {
   "cell_type": "code",
   "execution_count": 24,
   "id": "58c69a5d",
   "metadata": {},
   "outputs": [
    {
     "name": "stdout",
     "output_type": "stream",
     "text": [
      "      kommineni venkat\n"
     ]
    }
   ],
   "source": [
    "print(my_name)"
   ]
  },
  {
   "cell_type": "code",
   "execution_count": 26,
   "id": "749470d6",
   "metadata": {},
   "outputs": [
    {
     "name": "stdout",
     "output_type": "stream",
     "text": [
      "      KOMMINENI VENKAT\n"
     ]
    }
   ],
   "source": [
    "print(my_name.upper())"
   ]
  },
  {
   "cell_type": "code",
   "execution_count": 27,
   "id": "5e722ab3",
   "metadata": {},
   "outputs": [
    {
     "name": "stdout",
     "output_type": "stream",
     "text": [
      "      kommineni venkat\n"
     ]
    }
   ],
   "source": [
    "print(my_name.rstrip())"
   ]
  },
  {
   "cell_type": "code",
   "execution_count": 29,
   "id": "4c5869d5",
   "metadata": {},
   "outputs": [
    {
     "name": "stdout",
     "output_type": "stream",
     "text": [
      "kommineni venkat\n"
     ]
    }
   ],
   "source": [
    "print(my_name.lstrip())"
   ]
  },
  {
   "cell_type": "code",
   "execution_count": 30,
   "id": "5b193d86",
   "metadata": {},
   "outputs": [
    {
     "name": "stdout",
     "output_type": "stream",
     "text": [
      "\t ramanaih kommineni\n"
     ]
    }
   ],
   "source": [
    "print('\\t ramanaih kommineni')"
   ]
  },
  {
   "cell_type": "code",
   "execution_count": 31,
   "id": "047d9763",
   "metadata": {},
   "outputs": [
    {
     "name": "stdout",
     "output_type": "stream",
     "text": [
      "my_family:\tramanaiah\tprameela\taruna\tvenkat\tbalaram\n"
     ]
    }
   ],
   "source": [
    "print('my_family:\\tramanaiah\\tprameela\\taruna\\tvenkat\\tbalaram')"
   ]
  },
  {
   "cell_type": "code",
   "execution_count": 32,
   "id": "f82a3c32",
   "metadata": {},
   "outputs": [
    {
     "name": "stdout",
     "output_type": "stream",
     "text": [
      "my_family:\t\n",
      "ramanaiah\t\n",
      "prameela\t\n",
      "aruna\t\n",
      "venkat\t\n",
      "balaram\n"
     ]
    }
   ],
   "source": [
    "print('my_family:\\t\\nramanaiah\\t\\nprameela\\t\\naruna\\t\\nvenkat\\t\\nbalaram')"
   ]
  },
  {
   "cell_type": "code",
   "execution_count": 33,
   "id": "849208ed",
   "metadata": {},
   "outputs": [
    {
     "name": "stdout",
     "output_type": "stream",
     "text": [
      "my_family:\n",
      "\tramanaiah\n",
      "\tprameela\n",
      "\taruna\n",
      "\tvenkat\n",
      "\tbalaram\n"
     ]
    }
   ],
   "source": [
    "print('my_family:\\n\\tramanaiah\\n\\tprameela\\n\\taruna\\n\\tvenkat\\n\\tbalaram')"
   ]
  },
  {
   "cell_type": "code",
   "execution_count": 44,
   "id": "9c610de5",
   "metadata": {},
   "outputs": [],
   "source": [
    "my_dad=\"kommineni ramanaiah\""
   ]
  },
  {
   "cell_type": "code",
   "execution_count": 45,
   "id": "513a8e7f",
   "metadata": {},
   "outputs": [],
   "source": [
    "my_mom=\"kommineni prameela\""
   ]
  },
  {
   "cell_type": "code",
   "execution_count": 46,
   "id": "10f829d4",
   "metadata": {},
   "outputs": [],
   "source": [
    "my_parents=(f\"{my_dad}{my_mom}\")"
   ]
  },
  {
   "cell_type": "code",
   "execution_count": 47,
   "id": "67cad2b5",
   "metadata": {},
   "outputs": [
    {
     "name": "stdout",
     "output_type": "stream",
     "text": [
      "kommineni ramanaiahkommineni prameela\n"
     ]
    }
   ],
   "source": [
    "print(my_parents)"
   ]
  },
  {
   "cell_type": "code",
   "execution_count": 48,
   "id": "616e2af1",
   "metadata": {},
   "outputs": [
    {
     "name": "stdout",
     "output_type": "stream",
     "text": [
      "KOMMINENI RAMANAIAHKOMMINENI PRAMEELA\n"
     ]
    }
   ],
   "source": [
    "print(my_parents.upper())"
   ]
  },
  {
   "cell_type": "code",
   "execution_count": 50,
   "id": "9cebb82f",
   "metadata": {},
   "outputs": [
    {
     "name": "stdout",
     "output_type": "stream",
     "text": [
      "Kommineni Ramanaiahkommineni Prameela\n"
     ]
    }
   ],
   "source": [
    "print(my_parents.title())"
   ]
  },
  {
   "cell_type": "code",
   "execution_count": 51,
   "id": "95122526",
   "metadata": {},
   "outputs": [
    {
     "name": "stdout",
     "output_type": "stream",
     "text": [
      "kommineni ramanaiahkommineni prameela\n"
     ]
    }
   ],
   "source": [
    "print(my_parents.rstrip())"
   ]
  },
  {
   "cell_type": "code",
   "execution_count": 52,
   "id": "33e7ddd9",
   "metadata": {},
   "outputs": [
    {
     "name": "stdout",
     "output_type": "stream",
     "text": [
      "kommineni ramanaiahkommineni prameela\n"
     ]
    }
   ],
   "source": [
    "print(my_parents.lstrip())"
   ]
  },
  {
   "cell_type": "code",
   "execution_count": 53,
   "id": "65ab6eab",
   "metadata": {},
   "outputs": [
    {
     "data": {
      "text/plain": [
       "str"
      ]
     },
     "execution_count": 53,
     "metadata": {},
     "output_type": "execute_result"
    }
   ],
   "source": [
    "type(my_parents)"
   ]
  },
  {
   "cell_type": "code",
   "execution_count": 54,
   "id": "bf68060f",
   "metadata": {},
   "outputs": [
    {
     "data": {
      "text/plain": [
       "37"
      ]
     },
     "execution_count": 54,
     "metadata": {},
     "output_type": "execute_result"
    }
   ],
   "source": [
    "len(my_parents)"
   ]
  },
  {
   "cell_type": "code",
   "execution_count": 55,
   "id": "5d8ac7d6",
   "metadata": {},
   "outputs": [
    {
     "data": {
      "text/plain": [
       "'mineni ramanaiahkommineni prameela'"
      ]
     },
     "execution_count": 55,
     "metadata": {},
     "output_type": "execute_result"
    }
   ],
   "source": [
    "my_parents[3:]"
   ]
  },
  {
   "cell_type": "code",
   "execution_count": 56,
   "id": "2aed6bc0",
   "metadata": {},
   "outputs": [
    {
     "data": {
      "text/plain": [
       "'kommineni ramanaiah'"
      ]
     },
     "execution_count": 56,
     "metadata": {},
     "output_type": "execute_result"
    }
   ],
   "source": [
    "my_parents[0:19]"
   ]
  },
  {
   "cell_type": "code",
   "execution_count": 60,
   "id": "a3463c97",
   "metadata": {},
   "outputs": [
    {
     "data": {
      "text/plain": [
       "'kommineni prameela'"
      ]
     },
     "execution_count": 60,
     "metadata": {},
     "output_type": "execute_result"
    }
   ],
   "source": [
    "my_parents[19:]"
   ]
  },
  {
   "cell_type": "code",
   "execution_count": 61,
   "id": "9cb5f525",
   "metadata": {},
   "outputs": [],
   "source": [
    "# list data type"
   ]
  },
  {
   "cell_type": "code",
   "execution_count": null,
   "id": "27b9fc0d",
   "metadata": {},
   "outputs": [],
   "source": []
  },
  {
   "cell_type": "code",
   "execution_count": 63,
   "id": "ec3be8af",
   "metadata": {},
   "outputs": [],
   "source": [
    "my_friends=['vishnu','sachin','balaji','jai','deva','munna']"
   ]
  },
  {
   "cell_type": "code",
   "execution_count": 64,
   "id": "1e809421",
   "metadata": {},
   "outputs": [
    {
     "name": "stdout",
     "output_type": "stream",
     "text": [
      "['vishnu', 'sachin', 'balaji', 'jai', 'deva', 'munna']\n"
     ]
    }
   ],
   "source": [
    "print(my_friends)"
   ]
  },
  {
   "cell_type": "code",
   "execution_count": 65,
   "id": "40382618",
   "metadata": {},
   "outputs": [
    {
     "data": {
      "text/plain": [
       "list"
      ]
     },
     "execution_count": 65,
     "metadata": {},
     "output_type": "execute_result"
    }
   ],
   "source": [
    "type(my_friends)"
   ]
  },
  {
   "cell_type": "code",
   "execution_count": 66,
   "id": "b6bbbce8",
   "metadata": {},
   "outputs": [
    {
     "data": {
      "text/plain": [
       "6"
      ]
     },
     "execution_count": 66,
     "metadata": {},
     "output_type": "execute_result"
    }
   ],
   "source": [
    "len(my_friends)"
   ]
  },
  {
   "cell_type": "code",
   "execution_count": 67,
   "id": "8e8c5d54",
   "metadata": {},
   "outputs": [
    {
     "data": {
      "text/plain": [
       "'munna'"
      ]
     },
     "execution_count": 67,
     "metadata": {},
     "output_type": "execute_result"
    }
   ],
   "source": [
    "my_friends[5]"
   ]
  },
  {
   "cell_type": "code",
   "execution_count": 68,
   "id": "73609696",
   "metadata": {},
   "outputs": [
    {
     "data": {
      "text/plain": [
       "'balaji'"
      ]
     },
     "execution_count": 68,
     "metadata": {},
     "output_type": "execute_result"
    }
   ],
   "source": [
    "my_friends[2]"
   ]
  },
  {
   "cell_type": "code",
   "execution_count": 69,
   "id": "4af24c4c",
   "metadata": {},
   "outputs": [
    {
     "data": {
      "text/plain": [
       "'sachin'"
      ]
     },
     "execution_count": 69,
     "metadata": {},
     "output_type": "execute_result"
    }
   ],
   "source": [
    "my_friends[-5]"
   ]
  },
  {
   "cell_type": "code",
   "execution_count": 70,
   "id": "4cc6493a",
   "metadata": {},
   "outputs": [
    {
     "data": {
      "text/plain": [
       "'deva'"
      ]
     },
     "execution_count": 70,
     "metadata": {},
     "output_type": "execute_result"
    }
   ],
   "source": [
    "my_friends[-2]"
   ]
  },
  {
   "cell_type": "code",
   "execution_count": 73,
   "id": "82301c98",
   "metadata": {},
   "outputs": [],
   "source": [
    "my_friends.append('lakshay')"
   ]
  },
  {
   "cell_type": "code",
   "execution_count": 74,
   "id": "ecbcac53",
   "metadata": {},
   "outputs": [
    {
     "name": "stdout",
     "output_type": "stream",
     "text": [
      "['vishnu', 'sachin', 'balaji', 'jai', 'deva', 'munna', 'lakshay']\n"
     ]
    }
   ],
   "source": [
    "print(my_friends)"
   ]
  },
  {
   "cell_type": "code",
   "execution_count": 75,
   "id": "19ba3c04",
   "metadata": {},
   "outputs": [],
   "source": [
    "my_friends.insert(2,'nimit')"
   ]
  },
  {
   "cell_type": "code",
   "execution_count": 76,
   "id": "3ccc0ecc",
   "metadata": {},
   "outputs": [
    {
     "name": "stdout",
     "output_type": "stream",
     "text": [
      "['vishnu', 'sachin', 'nimit', 'balaji', 'jai', 'deva', 'munna', 'lakshay']\n"
     ]
    }
   ],
   "source": [
    "print(my_friends)"
   ]
  },
  {
   "cell_type": "code",
   "execution_count": 77,
   "id": "f1f29ff5",
   "metadata": {},
   "outputs": [
    {
     "data": {
      "text/plain": [
       "8"
      ]
     },
     "execution_count": 77,
     "metadata": {},
     "output_type": "execute_result"
    }
   ],
   "source": [
    "len(my_friends)"
   ]
  },
  {
   "cell_type": "code",
   "execution_count": 78,
   "id": "8c0a4919",
   "metadata": {},
   "outputs": [
    {
     "data": {
      "text/plain": [
       "'deva'"
      ]
     },
     "execution_count": 78,
     "metadata": {},
     "output_type": "execute_result"
    }
   ],
   "source": [
    "my_friends.pop(5)"
   ]
  },
  {
   "cell_type": "code",
   "execution_count": 79,
   "id": "09f8d602",
   "metadata": {},
   "outputs": [
    {
     "name": "stdout",
     "output_type": "stream",
     "text": [
      "['vishnu', 'sachin', 'nimit', 'balaji', 'jai', 'munna', 'lakshay']\n"
     ]
    }
   ],
   "source": [
    "print(my_friends)"
   ]
  },
  {
   "cell_type": "code",
   "execution_count": 81,
   "id": "c6389280",
   "metadata": {},
   "outputs": [
    {
     "data": {
      "text/plain": [
       "'munna'"
      ]
     },
     "execution_count": 81,
     "metadata": {},
     "output_type": "execute_result"
    }
   ],
   "source": [
    "my_friends.pop(5)"
   ]
  },
  {
   "cell_type": "code",
   "execution_count": 82,
   "id": "d4312010",
   "metadata": {},
   "outputs": [
    {
     "name": "stdout",
     "output_type": "stream",
     "text": [
      "['vishnu', 'sachin', 'nimit', 'balaji', 'jai', 'lakshay']\n"
     ]
    }
   ],
   "source": [
    "print(my_friends)"
   ]
  },
  {
   "cell_type": "code",
   "execution_count": 83,
   "id": "f83b4ebb",
   "metadata": {},
   "outputs": [],
   "source": [
    "my_friends.sort()"
   ]
  },
  {
   "cell_type": "code",
   "execution_count": 84,
   "id": "61c4febb",
   "metadata": {},
   "outputs": [
    {
     "name": "stdout",
     "output_type": "stream",
     "text": [
      "['balaji', 'jai', 'lakshay', 'nimit', 'sachin', 'vishnu']\n"
     ]
    }
   ],
   "source": [
    "print(my_friends)"
   ]
  },
  {
   "cell_type": "code",
   "execution_count": 85,
   "id": "704139d8",
   "metadata": {},
   "outputs": [],
   "source": [
    "my_friends.reverse()"
   ]
  },
  {
   "cell_type": "code",
   "execution_count": 86,
   "id": "e0401e0b",
   "metadata": {},
   "outputs": [
    {
     "name": "stdout",
     "output_type": "stream",
     "text": [
      "['vishnu', 'sachin', 'nimit', 'lakshay', 'jai', 'balaji']\n"
     ]
    }
   ],
   "source": [
    "print(my_friends)"
   ]
  },
  {
   "cell_type": "code",
   "execution_count": 92,
   "id": "154ce9a2",
   "metadata": {},
   "outputs": [],
   "source": [
    "my_budies=my_friends[:]"
   ]
  },
  {
   "cell_type": "code",
   "execution_count": 93,
   "id": "27f35571",
   "metadata": {},
   "outputs": [
    {
     "name": "stdout",
     "output_type": "stream",
     "text": [
      "['vishnu', 'sachin', 'nimit', 'lakshay', 'jai', 'balaji']\n"
     ]
    }
   ],
   "source": [
    "print(my_budies)"
   ]
  },
  {
   "cell_type": "code",
   "execution_count": 94,
   "id": "1326f117",
   "metadata": {},
   "outputs": [],
   "source": [
    "my_budies.sort()"
   ]
  },
  {
   "cell_type": "code",
   "execution_count": 95,
   "id": "ecd70f62",
   "metadata": {},
   "outputs": [
    {
     "name": "stdout",
     "output_type": "stream",
     "text": [
      "['balaji', 'jai', 'lakshay', 'nimit', 'sachin', 'vishnu']\n"
     ]
    }
   ],
   "source": [
    "print(my_budies)"
   ]
  },
  {
   "cell_type": "code",
   "execution_count": 96,
   "id": "3ec1d797",
   "metadata": {},
   "outputs": [
    {
     "data": {
      "text/plain": [
       "'vishnu'"
      ]
     },
     "execution_count": 96,
     "metadata": {},
     "output_type": "execute_result"
    }
   ],
   "source": [
    "my_budies[5]"
   ]
  },
  {
   "cell_type": "code",
   "execution_count": 100,
   "id": "0427a683",
   "metadata": {},
   "outputs": [
    {
     "data": {
      "text/plain": [
       "['balaji', 'jai', 'lakshay', 'nimit', 'sachin']"
      ]
     },
     "execution_count": 100,
     "metadata": {},
     "output_type": "execute_result"
    }
   ],
   "source": [
    "my_budies[0:5]"
   ]
  },
  {
   "cell_type": "code",
   "execution_count": 101,
   "id": "70b0c5af",
   "metadata": {},
   "outputs": [
    {
     "data": {
      "text/plain": [
       "['vishnu', 'sachin']"
      ]
     },
     "execution_count": 101,
     "metadata": {},
     "output_type": "execute_result"
    }
   ],
   "source": [
    "my_friends[0:2]"
   ]
  },
  {
   "cell_type": "code",
   "execution_count": 102,
   "id": "83510786",
   "metadata": {},
   "outputs": [
    {
     "data": {
      "text/plain": [
       "['balaji', 'jai']"
      ]
     },
     "execution_count": 102,
     "metadata": {},
     "output_type": "execute_result"
    }
   ],
   "source": [
    "my_budies[0:2]"
   ]
  },
  {
   "cell_type": "code",
   "execution_count": 103,
   "id": "0e54a96b",
   "metadata": {},
   "outputs": [
    {
     "data": {
      "text/plain": [
       "6"
      ]
     },
     "execution_count": 103,
     "metadata": {},
     "output_type": "execute_result"
    }
   ],
   "source": [
    "len(my_friends)"
   ]
  },
  {
   "cell_type": "code",
   "execution_count": null,
   "id": "047eaa79",
   "metadata": {},
   "outputs": [],
   "source": [
    " "
   ]
  },
  {
   "cell_type": "code",
   "execution_count": 104,
   "id": "dfd502a0",
   "metadata": {},
   "outputs": [],
   "source": [
    "girls=['siri','kavya','ramaya','aruna','laxshmi','prasanna']"
   ]
  },
  {
   "cell_type": "code",
   "execution_count": 105,
   "id": "383f7d8d",
   "metadata": {},
   "outputs": [
    {
     "name": "stdout",
     "output_type": "stream",
     "text": [
      "['siri', 'kavya', 'ramaya', 'aruna', 'laxshmi', 'prasanna']\n"
     ]
    }
   ],
   "source": [
    "print(girls)"
   ]
  },
  {
   "cell_type": "code",
   "execution_count": 109,
   "id": "5971a2cd",
   "metadata": {},
   "outputs": [
    {
     "name": "stdout",
     "output_type": "stream",
     "text": [
      "siri\n",
      "kavya\n",
      "ramaya\n",
      "aruna\n",
      "laxshmi\n",
      "prasanna\n"
     ]
    }
   ],
   "source": [
    "for students in girls:\n",
    "    print(students)"
   ]
  },
  {
   "cell_type": "code",
   "execution_count": 110,
   "id": "810d9ba7",
   "metadata": {},
   "outputs": [
    {
     "name": "stdout",
     "output_type": "stream",
     "text": [
      "all the names\n",
      "siri\n",
      "kavya\n",
      "ramaya\n",
      "aruna\n",
      "laxshmi\n",
      "prasanna\n"
     ]
    }
   ],
   "source": [
    "print('all the names')\n",
    "for x in girls:\n",
    "    print(x)"
   ]
  },
  {
   "cell_type": "code",
   "execution_count": null,
   "id": "3d57ada6",
   "metadata": {},
   "outputs": [],
   "source": []
  },
  {
   "cell_type": "code",
   "execution_count": 112,
   "id": "7f884ded",
   "metadata": {},
   "outputs": [],
   "source": [
    "# tuple data type"
   ]
  },
  {
   "cell_type": "code",
   "execution_count": 113,
   "id": "621bdc48",
   "metadata": {},
   "outputs": [],
   "source": [
    "x=(4,'jai',5,8,6,7)"
   ]
  },
  {
   "cell_type": "code",
   "execution_count": 114,
   "id": "294ef549",
   "metadata": {},
   "outputs": [
    {
     "name": "stdout",
     "output_type": "stream",
     "text": [
      "(4, 'jai', 5, 8, 6, 7)\n"
     ]
    }
   ],
   "source": [
    "print(x)"
   ]
  },
  {
   "cell_type": "code",
   "execution_count": 115,
   "id": "7a4ddb70",
   "metadata": {},
   "outputs": [
    {
     "data": {
      "text/plain": [
       "tuple"
      ]
     },
     "execution_count": 115,
     "metadata": {},
     "output_type": "execute_result"
    }
   ],
   "source": [
    "type(x)"
   ]
  },
  {
   "cell_type": "code",
   "execution_count": null,
   "id": "49ebfa5c",
   "metadata": {},
   "outputs": [],
   "source": []
  },
  {
   "cell_type": "code",
   "execution_count": 120,
   "id": "0c5cfccc",
   "metadata": {},
   "outputs": [],
   "source": [
    "a=(4,58,2,1,00,9,'venkat','vishnu','sachin')\n",
    "b=('ram','lucky','king',5,2,3,9)\n",
    "c=a+b"
   ]
  },
  {
   "cell_type": "code",
   "execution_count": 121,
   "id": "02e947d0",
   "metadata": {},
   "outputs": [
    {
     "name": "stdout",
     "output_type": "stream",
     "text": [
      "(4, 58, 2, 1, 0, 9, 'venkat', 'vishnu', 'sachin', 'ram', 'lucky', 'king', 5, 2, 3, 9)\n"
     ]
    }
   ],
   "source": [
    "print(c)"
   ]
  },
  {
   "cell_type": "code",
   "execution_count": 122,
   "id": "b4670141",
   "metadata": {},
   "outputs": [],
   "source": [
    "del(c)"
   ]
  },
  {
   "cell_type": "code",
   "execution_count": 123,
   "id": "ff367547",
   "metadata": {},
   "outputs": [
    {
     "ename": "NameError",
     "evalue": "name 'c' is not defined",
     "output_type": "error",
     "traceback": [
      "\u001b[1;31m---------------------------------------------------------------------------\u001b[0m",
      "\u001b[1;31mNameError\u001b[0m                                 Traceback (most recent call last)",
      "\u001b[1;32m<ipython-input-123-1dd5973cae19>\u001b[0m in \u001b[0;36m<module>\u001b[1;34m\u001b[0m\n\u001b[1;32m----> 1\u001b[1;33m \u001b[0mprint\u001b[0m\u001b[1;33m(\u001b[0m\u001b[0mc\u001b[0m\u001b[1;33m)\u001b[0m\u001b[1;33m\u001b[0m\u001b[1;33m\u001b[0m\u001b[0m\n\u001b[0m",
      "\u001b[1;31mNameError\u001b[0m: name 'c' is not defined"
     ]
    }
   ],
   "source": [
    "print(c)"
   ]
  },
  {
   "cell_type": "code",
   "execution_count": 124,
   "id": "aebdbcc6",
   "metadata": {},
   "outputs": [
    {
     "name": "stdout",
     "output_type": "stream",
     "text": [
      "(4, 58, 2, 1, 0, 9, 'venkat', 'vishnu', 'sachin')\n"
     ]
    }
   ],
   "source": [
    "print(a)"
   ]
  },
  {
   "cell_type": "code",
   "execution_count": 127,
   "id": "141143f3",
   "metadata": {},
   "outputs": [],
   "source": [
    "del a"
   ]
  },
  {
   "cell_type": "code",
   "execution_count": 128,
   "id": "c731c208",
   "metadata": {},
   "outputs": [
    {
     "ename": "NameError",
     "evalue": "name 'a' is not defined",
     "output_type": "error",
     "traceback": [
      "\u001b[1;31m---------------------------------------------------------------------------\u001b[0m",
      "\u001b[1;31mNameError\u001b[0m                                 Traceback (most recent call last)",
      "\u001b[1;32m<ipython-input-128-bca0e2660b9f>\u001b[0m in \u001b[0;36m<module>\u001b[1;34m\u001b[0m\n\u001b[1;32m----> 1\u001b[1;33m \u001b[0mprint\u001b[0m\u001b[1;33m(\u001b[0m\u001b[0ma\u001b[0m\u001b[1;33m)\u001b[0m\u001b[1;33m\u001b[0m\u001b[1;33m\u001b[0m\u001b[0m\n\u001b[0m",
      "\u001b[1;31mNameError\u001b[0m: name 'a' is not defined"
     ]
    }
   ],
   "source": [
    "print(a)"
   ]
  },
  {
   "cell_type": "code",
   "execution_count": 129,
   "id": "e18ff067",
   "metadata": {},
   "outputs": [
    {
     "name": "stdout",
     "output_type": "stream",
     "text": [
      "('ram', 'lucky', 'king', 5, 2, 3, 9)\n"
     ]
    }
   ],
   "source": [
    "print(b)"
   ]
  },
  {
   "cell_type": "code",
   "execution_count": 133,
   "id": "e4154ca0",
   "metadata": {},
   "outputs": [],
   "source": [
    "m=1,5,2,6,88,4,9,7,9,6,4,3,2,5,4,5,5555,222,8,9,4,55,55,5,6,65,5,56,6,'krish'"
   ]
  },
  {
   "cell_type": "code",
   "execution_count": 134,
   "id": "1d71d19a",
   "metadata": {},
   "outputs": [
    {
     "name": "stdout",
     "output_type": "stream",
     "text": [
      "(1, 5, 2, 6, 88, 4, 9, 7, 9, 6, 4, 3, 2, 5, 4, 5, 5555, 222, 8, 9, 4, 55, 55, 5, 6, 65, 5, 56, 6, 'krish')\n"
     ]
    }
   ],
   "source": [
    "print(m)"
   ]
  },
  {
   "cell_type": "code",
   "execution_count": 142,
   "id": "cf42e5ed",
   "metadata": {},
   "outputs": [
    {
     "data": {
      "text/plain": [
       "30"
      ]
     },
     "execution_count": 142,
     "metadata": {},
     "output_type": "execute_result"
    }
   ],
   "source": [
    "len(m)"
   ]
  },
  {
   "cell_type": "markdown",
   "id": "88857541",
   "metadata": {},
   "source": []
  },
  {
   "cell_type": "code",
   "execution_count": 143,
   "id": "aa01e5b9",
   "metadata": {},
   "outputs": [
    {
     "data": {
      "text/plain": [
       "('krish',)"
      ]
     },
     "execution_count": 143,
     "metadata": {},
     "output_type": "execute_result"
    }
   ],
   "source": [
    "m[29:]"
   ]
  },
  {
   "cell_type": "code",
   "execution_count": 144,
   "id": "e0b54c54",
   "metadata": {},
   "outputs": [
    {
     "data": {
      "text/plain": [
       "'krish'"
      ]
     },
     "execution_count": 144,
     "metadata": {},
     "output_type": "execute_result"
    }
   ],
   "source": [
    "m[29]"
   ]
  },
  {
   "cell_type": "code",
   "execution_count": 145,
   "id": "089653c2",
   "metadata": {},
   "outputs": [
    {
     "data": {
      "text/plain": [
       "(1,\n",
       " 5,\n",
       " 2,\n",
       " 6,\n",
       " 88,\n",
       " 4,\n",
       " 9,\n",
       " 7,\n",
       " 9,\n",
       " 6,\n",
       " 4,\n",
       " 3,\n",
       " 2,\n",
       " 5,\n",
       " 4,\n",
       " 5,\n",
       " 5555,\n",
       " 222,\n",
       " 8,\n",
       " 9,\n",
       " 4,\n",
       " 55,\n",
       " 55,\n",
       " 5,\n",
       " 6,\n",
       " 65,\n",
       " 5,\n",
       " 56,\n",
       " 6,\n",
       " 'krish')"
      ]
     },
     "execution_count": 145,
     "metadata": {},
     "output_type": "execute_result"
    }
   ],
   "source": [
    "m[0:]"
   ]
  },
  {
   "cell_type": "code",
   "execution_count": 146,
   "id": "7ed2b3fc",
   "metadata": {},
   "outputs": [
    {
     "data": {
      "text/plain": [
       "1"
      ]
     },
     "execution_count": 146,
     "metadata": {},
     "output_type": "execute_result"
    }
   ],
   "source": [
    "m[0]"
   ]
  },
  {
   "cell_type": "code",
   "execution_count": 147,
   "id": "7fb0b9f7",
   "metadata": {},
   "outputs": [
    {
     "data": {
      "text/plain": [
       "4"
      ]
     },
     "execution_count": 147,
     "metadata": {},
     "output_type": "execute_result"
    }
   ],
   "source": [
    "m[5]"
   ]
  },
  {
   "cell_type": "code",
   "execution_count": null,
   "id": "f06e6a5a",
   "metadata": {},
   "outputs": [],
   "source": []
  },
  {
   "cell_type": "code",
   "execution_count": 148,
   "id": "b3bf0483",
   "metadata": {},
   "outputs": [],
   "source": [
    "# practices dict"
   ]
  },
  {
   "cell_type": "code",
   "execution_count": null,
   "id": "a6b43495",
   "metadata": {},
   "outputs": [],
   "source": []
  },
  {
   "cell_type": "code",
   "execution_count": 149,
   "id": "7e565269",
   "metadata": {},
   "outputs": [],
   "source": [
    "pairs={'NTR':'nithyameenan','mahesh':'sam','ramcharan':'thamanna','bala krishna':'anjali','ntr':'kajal'}"
   ]
  },
  {
   "cell_type": "code",
   "execution_count": 150,
   "id": "04584660",
   "metadata": {},
   "outputs": [
    {
     "name": "stdout",
     "output_type": "stream",
     "text": [
      "{'NTR': 'nithyameenan', 'mahesh': 'sam', 'ramcharan': 'thamanna', 'bala krishna': 'anjali', 'ntr': 'kajal'}\n"
     ]
    }
   ],
   "source": [
    "print(pairs)"
   ]
  },
  {
   "cell_type": "code",
   "execution_count": 152,
   "id": "ee820144",
   "metadata": {},
   "outputs": [
    {
     "data": {
      "text/plain": [
       "5"
      ]
     },
     "execution_count": 152,
     "metadata": {},
     "output_type": "execute_result"
    }
   ],
   "source": [
    "len(pairs)"
   ]
  },
  {
   "cell_type": "code",
   "execution_count": 153,
   "id": "4c9abd1b",
   "metadata": {},
   "outputs": [
    {
     "data": {
      "text/plain": [
       "dict"
      ]
     },
     "execution_count": 153,
     "metadata": {},
     "output_type": "execute_result"
    }
   ],
   "source": [
    "type(pairs)"
   ]
  },
  {
   "cell_type": "code",
   "execution_count": 154,
   "id": "c6feb2fa",
   "metadata": {},
   "outputs": [],
   "source": [
    "pairs['ramanaiah']='prameela'"
   ]
  },
  {
   "cell_type": "code",
   "execution_count": 155,
   "id": "c1a84af9",
   "metadata": {},
   "outputs": [
    {
     "name": "stdout",
     "output_type": "stream",
     "text": [
      "{'NTR': 'nithyameenan', 'mahesh': 'sam', 'ramcharan': 'thamanna', 'bala krishna': 'anjali', 'ntr': 'kajal', 'ramanaiah': 'prameela'}\n"
     ]
    }
   ],
   "source": [
    "print(pairs)"
   ]
  },
  {
   "cell_type": "code",
   "execution_count": 156,
   "id": "06165e7b",
   "metadata": {},
   "outputs": [
    {
     "data": {
      "text/plain": [
       "6"
      ]
     },
     "execution_count": 156,
     "metadata": {},
     "output_type": "execute_result"
    }
   ],
   "source": [
    "len(pairs)"
   ]
  },
  {
   "cell_type": "code",
   "execution_count": 165,
   "id": "ca6f67d2",
   "metadata": {},
   "outputs": [],
   "source": [
    "pairs['mahesh']='lavanyathripati'"
   ]
  },
  {
   "cell_type": "code",
   "execution_count": 166,
   "id": "2562f9c5",
   "metadata": {},
   "outputs": [
    {
     "name": "stdout",
     "output_type": "stream",
     "text": [
      "{'NTR': 'nithyameenan', 'mahesh': 'lavanyathripati', 'ramcharan': 'thamanna', 'bala krishna': 'anjali', 'ntr': 'kajal', 'ramanaiah': 'prameela', 'ramcharam': 'rakul'}\n"
     ]
    }
   ],
   "source": [
    "print(pairs)"
   ]
  },
  {
   "cell_type": "code",
   "execution_count": 167,
   "id": "3f000a0e",
   "metadata": {},
   "outputs": [],
   "source": [
    "pairs['ntr']='laxshmi'"
   ]
  },
  {
   "cell_type": "code",
   "execution_count": 168,
   "id": "8a0f9643",
   "metadata": {},
   "outputs": [
    {
     "name": "stdout",
     "output_type": "stream",
     "text": [
      "{'NTR': 'nithyameenan', 'mahesh': 'lavanyathripati', 'ramcharan': 'thamanna', 'bala krishna': 'anjali', 'ntr': 'laxshmi', 'ramanaiah': 'prameela', 'ramcharam': 'rakul'}\n"
     ]
    }
   ],
   "source": [
    "print(pairs)"
   ]
  },
  {
   "cell_type": "code",
   "execution_count": 179,
   "id": "aebad351",
   "metadata": {},
   "outputs": [],
   "source": [
    "couples=pairs"
   ]
  },
  {
   "cell_type": "code",
   "execution_count": null,
   "id": "3df8f428",
   "metadata": {},
   "outputs": [],
   "source": []
  },
  {
   "cell_type": "code",
   "execution_count": null,
   "id": "df49d3ca",
   "metadata": {},
   "outputs": [],
   "source": []
  },
  {
   "cell_type": "code",
   "execution_count": null,
   "id": "d641ef9b",
   "metadata": {},
   "outputs": [],
   "source": []
  },
  {
   "cell_type": "code",
   "execution_count": null,
   "id": "1234eaf1",
   "metadata": {},
   "outputs": [],
   "source": []
  }
 ],
 "metadata": {
  "kernelspec": {
   "display_name": "Python 3",
   "language": "python",
   "name": "python3"
  },
  "language_info": {
   "codemirror_mode": {
    "name": "ipython",
    "version": 3
   },
   "file_extension": ".py",
   "mimetype": "text/x-python",
   "name": "python",
   "nbconvert_exporter": "python",
   "pygments_lexer": "ipython3",
   "version": "3.8.8"
  }
 },
 "nbformat": 4,
 "nbformat_minor": 5
}
