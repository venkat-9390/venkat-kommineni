{
 "cells": [
  {
   "cell_type": "code",
   "execution_count": 1,
   "id": "4e3d336f",
   "metadata": {},
   "outputs": [
    {
     "data": {
      "text/plain": [
       "'hello gud moring '"
      ]
     },
     "execution_count": 1,
     "metadata": {},
     "output_type": "execute_result"
    }
   ],
   "source": [
    "'''hello gud moring '''"
   ]
  },
  {
   "cell_type": "code",
   "execution_count": 2,
   "id": "5945f181",
   "metadata": {},
   "outputs": [],
   "source": [
    "x='vishnu'"
   ]
  },
  {
   "cell_type": "code",
   "execution_count": 3,
   "id": "80ee4596",
   "metadata": {},
   "outputs": [
    {
     "name": "stdout",
     "output_type": "stream",
     "text": [
      "vishnu\n"
     ]
    }
   ],
   "source": [
    "print(x)"
   ]
  },
  {
   "cell_type": "code",
   "execution_count": 4,
   "id": "6b0469a1",
   "metadata": {},
   "outputs": [
    {
     "data": {
      "text/plain": [
       "'vishnu'"
      ]
     },
     "execution_count": 4,
     "metadata": {},
     "output_type": "execute_result"
    }
   ],
   "source": [
    "x"
   ]
  },
  {
   "cell_type": "code",
   "execution_count": 5,
   "id": "7d8046c1",
   "metadata": {},
   "outputs": [],
   "source": [
    "a='''life is like a cricket ,don't fall like a wicket\n",
    ",dream big achiave life is going to make colour full\n",
    "live  a legend, '''"
   ]
  },
  {
   "cell_type": "code",
   "execution_count": 6,
   "id": "da57e24d",
   "metadata": {},
   "outputs": [
    {
     "name": "stdout",
     "output_type": "stream",
     "text": [
      "life is like a cricket ,don't fall like a wicket\n",
      ",dream big achiave life is going to make colour full\n",
      "live  a legend, \n"
     ]
    }
   ],
   "source": [
    "print(a)"
   ]
  },
  {
   "cell_type": "code",
   "execution_count": 7,
   "id": "5914a343",
   "metadata": {},
   "outputs": [
    {
     "data": {
      "text/plain": [
       "\"life is like a cricket ,don't fall like a wicket\\n,dream big achiave life is going to make colour full\\nlive  a legend, \""
      ]
     },
     "execution_count": 7,
     "metadata": {},
     "output_type": "execute_result"
    }
   ],
   "source": [
    "a"
   ]
  },
  {
   "cell_type": "code",
   "execution_count": null,
   "id": "644dc850",
   "metadata": {},
   "outputs": [],
   "source": []
  },
  {
   "cell_type": "code",
   "execution_count": 10,
   "id": "e973c9cb",
   "metadata": {},
   "outputs": [],
   "source": [
    "a='''life is like a cricket ,don't fall like a wicket\n",
    ",\\t\\ndream big achiave life is going to make colour full\n",
    "\\t\\nlive  a legend, '''"
   ]
  },
  {
   "cell_type": "code",
   "execution_count": 11,
   "id": "9c470415",
   "metadata": {},
   "outputs": [
    {
     "data": {
      "text/plain": [
       "\"life is like a cricket ,don't fall like a wicket\\n,\\t\\ndream big achiave life is going to make colour full\\n\\t\\nlive  a legend, \""
      ]
     },
     "execution_count": 11,
     "metadata": {},
     "output_type": "execute_result"
    }
   ],
   "source": [
    "a"
   ]
  },
  {
   "cell_type": "code",
   "execution_count": null,
   "id": "0ff51e44",
   "metadata": {},
   "outputs": [],
   "source": []
  },
  {
   "cell_type": "code",
   "execution_count": 14,
   "id": "f7fddb38",
   "metadata": {},
   "outputs": [
    {
     "name": "stdout",
     "output_type": "stream",
     "text": [
      "f\n",
      "r\n",
      "u\n",
      "i\n",
      "t\n",
      "s\n"
     ]
    }
   ],
   "source": [
    "for x in 'fruits':\n",
    "    print(x)"
   ]
  },
  {
   "cell_type": "code",
   "execution_count": 15,
   "id": "b0ce9326",
   "metadata": {},
   "outputs": [
    {
     "name": "stdout",
     "output_type": "stream",
     "text": [
      "k\n",
      "o\n",
      "m\n",
      "m\n",
      "i\n",
      "n\n",
      "e\n",
      "n\n",
      "i\n",
      " \n",
      "v\n",
      "e\n",
      "n\n",
      "k\n",
      "a\n",
      "t\n"
     ]
    }
   ],
   "source": [
    "for name in 'kommineni venkat':\n",
    "    print(name)"
   ]
  },
  {
   "cell_type": "code",
   "execution_count": 17,
   "id": "719af0bc",
   "metadata": {},
   "outputs": [
    {
     "ename": "SyntaxError",
     "evalue": "invalid syntax (<ipython-input-17-aa6243d3361a>, line 1)",
     "output_type": "error",
     "traceback": [
      "\u001b[1;36m  File \u001b[1;32m\"<ipython-input-17-aa6243d3361a>\"\u001b[1;36m, line \u001b[1;32m1\u001b[0m\n\u001b[1;33m    for num in [1:99]:\u001b[0m\n\u001b[1;37m                 ^\u001b[0m\n\u001b[1;31mSyntaxError\u001b[0m\u001b[1;31m:\u001b[0m invalid syntax\n"
     ]
    }
   ],
   "source": [
    "for num in [1:99]:                                           ############### akka naku ekkada range ravataldhu............\n",
    "    print(num)"
   ]
  },
  {
   "cell_type": "code",
   "execution_count": null,
   "id": "658b660f",
   "metadata": {},
   "outputs": [],
   "source": []
  },
  {
   "cell_type": "code",
   "execution_count": 18,
   "id": "202f11bd",
   "metadata": {},
   "outputs": [],
   "source": [
    "x=\"kommineni venkat\""
   ]
  },
  {
   "cell_type": "code",
   "execution_count": 19,
   "id": "760b6dd9",
   "metadata": {},
   "outputs": [
    {
     "data": {
      "text/plain": [
       "16"
      ]
     },
     "execution_count": 19,
     "metadata": {},
     "output_type": "execute_result"
    }
   ],
   "source": [
    "len(x)"
   ]
  },
  {
   "cell_type": "code",
   "execution_count": 20,
   "id": "5976ea4d",
   "metadata": {},
   "outputs": [],
   "source": [
    "a='king is always king'"
   ]
  },
  {
   "cell_type": "code",
   "execution_count": 22,
   "id": "80572b38",
   "metadata": {},
   "outputs": [
    {
     "data": {
      "text/plain": [
       "19"
      ]
     },
     "execution_count": 22,
     "metadata": {},
     "output_type": "execute_result"
    }
   ],
   "source": [
    "len(a)"
   ]
  },
  {
   "cell_type": "code",
   "execution_count": 23,
   "id": "16dca9ae",
   "metadata": {},
   "outputs": [
    {
     "name": "stdout",
     "output_type": "stream",
     "text": [
      "19\n"
     ]
    }
   ],
   "source": [
    "print(len(a))"
   ]
  },
  {
   "cell_type": "code",
   "execution_count": 24,
   "id": "0c086c24",
   "metadata": {},
   "outputs": [
    {
     "name": "stdout",
     "output_type": "stream",
     "text": [
      "16\n"
     ]
    }
   ],
   "source": [
    "print(len(x))"
   ]
  },
  {
   "cell_type": "code",
   "execution_count": null,
   "id": "22ca3df3",
   "metadata": {},
   "outputs": [],
   "source": []
  },
  {
   "cell_type": "code",
   "execution_count": null,
   "id": "6790a687",
   "metadata": {},
   "outputs": [],
   "source": []
  },
  {
   "cell_type": "code",
   "execution_count": null,
   "id": "701b48bf",
   "metadata": {},
   "outputs": [],
   "source": []
  },
  {
   "cell_type": "code",
   "execution_count": 26,
   "id": "a42adfed",
   "metadata": {},
   "outputs": [],
   "source": [
    "########## akka check string   ,check if not mean;,,,,,,,..............."
   ]
  },
  {
   "cell_type": "code",
   "execution_count": null,
   "id": "b5d6c660",
   "metadata": {},
   "outputs": [],
   "source": []
  },
  {
   "cell_type": "code",
   "execution_count": 27,
   "id": "74f15ae0",
   "metadata": {},
   "outputs": [],
   "source": [
    "x='rama is going to heven'"
   ]
  },
  {
   "cell_type": "code",
   "execution_count": 28,
   "id": "5b12945d",
   "metadata": {},
   "outputs": [
    {
     "data": {
      "text/plain": [
       "'rama is going to heven'"
      ]
     },
     "execution_count": 28,
     "metadata": {},
     "output_type": "execute_result"
    }
   ],
   "source": [
    "x"
   ]
  },
  {
   "cell_type": "code",
   "execution_count": 32,
   "id": "046f8bd8",
   "metadata": {},
   "outputs": [
    {
     "data": {
      "text/plain": [
       "'ma is '"
      ]
     },
     "execution_count": 32,
     "metadata": {},
     "output_type": "execute_result"
    }
   ],
   "source": [
    "x[2:8]"
   ]
  },
  {
   "cell_type": "code",
   "execution_count": 33,
   "id": "2f33e383",
   "metadata": {},
   "outputs": [
    {
     "data": {
      "text/plain": [
       "'rama is going to heven'"
      ]
     },
     "execution_count": 33,
     "metadata": {},
     "output_type": "execute_result"
    }
   ],
   "source": [
    "x[0:66]"
   ]
  },
  {
   "cell_type": "code",
   "execution_count": 34,
   "id": "55578e4c",
   "metadata": {},
   "outputs": [
    {
     "data": {
      "text/plain": [
       "'rama is going to heven'"
      ]
     },
     "execution_count": 34,
     "metadata": {},
     "output_type": "execute_result"
    }
   ],
   "source": [
    "x[0:]"
   ]
  },
  {
   "cell_type": "code",
   "execution_count": 35,
   "id": "315e070f",
   "metadata": {},
   "outputs": [
    {
     "data": {
      "text/plain": [
       "'rama is going to heven'"
      ]
     },
     "execution_count": 35,
     "metadata": {},
     "output_type": "execute_result"
    }
   ],
   "source": [
    "x[:22]"
   ]
  },
  {
   "cell_type": "code",
   "execution_count": 36,
   "id": "60031a3e",
   "metadata": {},
   "outputs": [
    {
     "data": {
      "text/plain": [
       "'ing to heven'"
      ]
     },
     "execution_count": 36,
     "metadata": {},
     "output_type": "execute_result"
    }
   ],
   "source": [
    "x[-12:]"
   ]
  },
  {
   "cell_type": "code",
   "execution_count": null,
   "id": "a6fa8245",
   "metadata": {},
   "outputs": [],
   "source": []
  },
  {
   "cell_type": "code",
   "execution_count": 37,
   "id": "f4dcf842",
   "metadata": {},
   "outputs": [],
   "source": [
    "my_friend='koyya vishnu'"
   ]
  },
  {
   "cell_type": "code",
   "execution_count": 38,
   "id": "7327f981",
   "metadata": {},
   "outputs": [
    {
     "data": {
      "text/plain": [
       "'KOYYA VISHNU'"
      ]
     },
     "execution_count": 38,
     "metadata": {},
     "output_type": "execute_result"
    }
   ],
   "source": [
    "my_friend.upper()"
   ]
  },
  {
   "cell_type": "code",
   "execution_count": 40,
   "id": "d8a31001",
   "metadata": {},
   "outputs": [
    {
     "name": "stdout",
     "output_type": "stream",
     "text": [
      "KOYYA VISHNU\n"
     ]
    }
   ],
   "source": [
    "print(my_friend.upper())"
   ]
  },
  {
   "cell_type": "code",
   "execution_count": 41,
   "id": "d6a4d707",
   "metadata": {},
   "outputs": [],
   "source": [
    "me='        kommineni venkat'"
   ]
  },
  {
   "cell_type": "code",
   "execution_count": 47,
   "id": "f15fd492",
   "metadata": {},
   "outputs": [
    {
     "data": {
      "text/plain": [
       "'Kommineni Venkat'"
      ]
     },
     "execution_count": 47,
     "metadata": {},
     "output_type": "execute_result"
    }
   ],
   "source": [
    "me.title()"
   ]
  },
  {
   "cell_type": "code",
   "execution_count": 48,
   "id": "b5ae2211",
   "metadata": {},
   "outputs": [
    {
     "data": {
      "text/plain": [
       "'KOMMINENI VENKAT'"
      ]
     },
     "execution_count": 48,
     "metadata": {},
     "output_type": "execute_result"
    }
   ],
   "source": [
    "me.upper()"
   ]
  },
  {
   "cell_type": "code",
   "execution_count": 49,
   "id": "7ee94cfb",
   "metadata": {},
   "outputs": [
    {
     "data": {
      "text/plain": [
       "'kommineni venkat'"
      ]
     },
     "execution_count": 49,
     "metadata": {},
     "output_type": "execute_result"
    }
   ],
   "source": [
    "me.lower()"
   ]
  },
  {
   "cell_type": "code",
   "execution_count": null,
   "id": "2136d4dd",
   "metadata": {},
   "outputs": [],
   "source": []
  },
  {
   "cell_type": "code",
   "execution_count": 50,
   "id": "c4ef0f15",
   "metadata": {},
   "outputs": [
    {
     "data": {
      "text/plain": [
       "'kommineni venkat'"
      ]
     },
     "execution_count": 50,
     "metadata": {},
     "output_type": "execute_result"
    }
   ],
   "source": [
    "me.strip()"
   ]
  },
  {
   "cell_type": "code",
   "execution_count": 52,
   "id": "7e8d774c",
   "metadata": {},
   "outputs": [
    {
     "data": {
      "text/plain": [
       "'kommineni venkat'"
      ]
     },
     "execution_count": 52,
     "metadata": {},
     "output_type": "execute_result"
    }
   ],
   "source": [
    "me.lstrip()"
   ]
  },
  {
   "cell_type": "code",
   "execution_count": 53,
   "id": "e08bcc96",
   "metadata": {},
   "outputs": [
    {
     "data": {
      "text/plain": [
       "'kommineni venkat'"
      ]
     },
     "execution_count": 53,
     "metadata": {},
     "output_type": "execute_result"
    }
   ],
   "source": [
    "me.rstrip()"
   ]
  },
  {
   "cell_type": "code",
   "execution_count": null,
   "id": "bc0d8ec6",
   "metadata": {},
   "outputs": [],
   "source": []
  },
  {
   "cell_type": "code",
   "execution_count": 54,
   "id": "bbe11971",
   "metadata": {},
   "outputs": [],
   "source": [
    "name=\"    chandu   \""
   ]
  },
  {
   "cell_type": "code",
   "execution_count": 55,
   "id": "03eb3198",
   "metadata": {},
   "outputs": [
    {
     "name": "stdout",
     "output_type": "stream",
     "text": [
      "    chandu   \n"
     ]
    }
   ],
   "source": [
    "print(name)"
   ]
  },
  {
   "cell_type": "code",
   "execution_count": 56,
   "id": "416378b4",
   "metadata": {},
   "outputs": [
    {
     "name": "stdout",
     "output_type": "stream",
     "text": [
      "chandu\n"
     ]
    }
   ],
   "source": [
    "print(name.strip())"
   ]
  },
  {
   "cell_type": "code",
   "execution_count": 57,
   "id": "4acebc52",
   "metadata": {},
   "outputs": [
    {
     "data": {
      "text/plain": [
       "'    chandu'"
      ]
     },
     "execution_count": 57,
     "metadata": {},
     "output_type": "execute_result"
    }
   ],
   "source": [
    "name.rstrip()"
   ]
  },
  {
   "cell_type": "code",
   "execution_count": 58,
   "id": "aa91b9e1",
   "metadata": {},
   "outputs": [
    {
     "data": {
      "text/plain": [
       "'chandu   '"
      ]
     },
     "execution_count": 58,
     "metadata": {},
     "output_type": "execute_result"
    }
   ],
   "source": [
    "name.lstrip()"
   ]
  },
  {
   "cell_type": "code",
   "execution_count": null,
   "id": "58bc8fca",
   "metadata": {},
   "outputs": [],
   "source": []
  },
  {
   "cell_type": "code",
   "execution_count": null,
   "id": "c787a61d",
   "metadata": {},
   "outputs": [],
   "source": []
  },
  {
   "cell_type": "code",
   "execution_count": 67,
   "id": "24ec311a",
   "metadata": {},
   "outputs": [],
   "source": [
    "k=\"monkey\""
   ]
  },
  {
   "cell_type": "code",
   "execution_count": 69,
   "id": "1733a8ab",
   "metadata": {},
   "outputs": [
    {
     "data": {
      "text/plain": [
       "'monkey'"
      ]
     },
     "execution_count": 69,
     "metadata": {},
     "output_type": "execute_result"
    }
   ],
   "source": [
    "k"
   ]
  },
  {
   "cell_type": "raw",
   "id": "2b99c8ea",
   "metadata": {},
   "source": [
    "k.replace('m','d')"
   ]
  },
  {
   "cell_type": "code",
   "execution_count": 71,
   "id": "af3fd1f7",
   "metadata": {},
   "outputs": [
    {
     "name": "stdout",
     "output_type": "stream",
     "text": [
      "monkey\n"
     ]
    }
   ],
   "source": [
    "print(k)"
   ]
  },
  {
   "cell_type": "code",
   "execution_count": null,
   "id": "f23c2340",
   "metadata": {},
   "outputs": [],
   "source": []
  },
  {
   "cell_type": "code",
   "execution_count": 72,
   "id": "ce31a1e4",
   "metadata": {},
   "outputs": [],
   "source": [
    "x=\"jai kommineni\""
   ]
  },
  {
   "cell_type": "code",
   "execution_count": 76,
   "id": "fe10e9a6",
   "metadata": {},
   "outputs": [],
   "source": [
    "y=\"  is bad boy\""
   ]
  },
  {
   "cell_type": "code",
   "execution_count": 77,
   "id": "8fae2996",
   "metadata": {},
   "outputs": [],
   "source": [
    "z=x+y"
   ]
  },
  {
   "cell_type": "code",
   "execution_count": 78,
   "id": "85c01e52",
   "metadata": {},
   "outputs": [
    {
     "name": "stdout",
     "output_type": "stream",
     "text": [
      "jai kommineni  is bad boy\n"
     ]
    }
   ],
   "source": [
    "print(z)"
   ]
  },
  {
   "cell_type": "code",
   "execution_count": null,
   "id": "5d8350cb",
   "metadata": {},
   "outputs": [],
   "source": []
  },
  {
   "cell_type": "code",
   "execution_count": 79,
   "id": "d023b3aa",
   "metadata": {},
   "outputs": [],
   "source": [
    "x=\"venkat\""
   ]
  },
  {
   "cell_type": "code",
   "execution_count": 80,
   "id": "dee8e1a1",
   "metadata": {},
   "outputs": [],
   "source": [
    "y=\"chandu\""
   ]
  },
  {
   "cell_type": "code",
   "execution_count": 81,
   "id": "d60b4997",
   "metadata": {},
   "outputs": [],
   "source": [
    "z=\"     \""
   ]
  },
  {
   "cell_type": "code",
   "execution_count": 82,
   "id": "10e876be",
   "metadata": {},
   "outputs": [],
   "source": [
    "m=x+z+y"
   ]
  },
  {
   "cell_type": "code",
   "execution_count": 83,
   "id": "20626c92",
   "metadata": {},
   "outputs": [
    {
     "name": "stdout",
     "output_type": "stream",
     "text": [
      "venkat     chandu\n"
     ]
    }
   ],
   "source": [
    "print(m)"
   ]
  },
  {
   "cell_type": "code",
   "execution_count": null,
   "id": "5d8e9d4e",
   "metadata": {},
   "outputs": [],
   "source": []
  },
  {
   "cell_type": "code",
   "execution_count": 85,
   "id": "edbb9964",
   "metadata": {},
   "outputs": [],
   "source": [
    "snts=\"iam felling not good at \""
   ]
  },
  {
   "cell_type": "code",
   "execution_count": 87,
   "id": "2c376809",
   "metadata": {},
   "outputs": [
    {
     "ename": "TypeError",
     "evalue": "can only concatenate str (not \"int\") to str",
     "output_type": "error",
     "traceback": [
      "\u001b[1;31m---------------------------------------------------------------------------\u001b[0m",
      "\u001b[1;31mTypeError\u001b[0m                                 Traceback (most recent call last)",
      "\u001b[1;32m<ipython-input-87-c5bf930869ee>\u001b[0m in \u001b[0;36m<module>\u001b[1;34m\u001b[0m\n\u001b[1;32m----> 1\u001b[1;33m \u001b[0mtime\u001b[0m\u001b[1;33m=\u001b[0m\u001b[1;34m\"snts\"\u001b[0m\u001b[1;33m+\u001b[0m\u001b[1;36m2\u001b[0m\u001b[1;33m\u001b[0m\u001b[1;33m\u001b[0m\u001b[0m\n\u001b[0m",
      "\u001b[1;31mTypeError\u001b[0m: can only concatenate str (not \"int\") to str"
     ]
    }
   ],
   "source": [
    "time=\"snts\"+2"
   ]
  },
  {
   "cell_type": "code",
   "execution_count": null,
   "id": "8ee58a2b",
   "metadata": {},
   "outputs": [],
   "source": []
  },
  {
   "cell_type": "code",
   "execution_count": 88,
   "id": "5986ca3e",
   "metadata": {},
   "outputs": [],
   "source": [
    "### akka format string ,escape character, chapavva  pls"
   ]
  },
  {
   "cell_type": "code",
   "execution_count": null,
   "id": "d3afa89d",
   "metadata": {},
   "outputs": [],
   "source": []
  },
  {
   "cell_type": "code",
   "execution_count": null,
   "id": "6382b425",
   "metadata": {},
   "outputs": [],
   "source": []
  },
  {
   "cell_type": "code",
   "execution_count": null,
   "id": "2ded0798",
   "metadata": {},
   "outputs": [],
   "source": []
  },
  {
   "cell_type": "code",
   "execution_count": null,
   "id": "207b6d77",
   "metadata": {},
   "outputs": [],
   "source": []
  },
  {
   "cell_type": "code",
   "execution_count": null,
   "id": "e3ba38e3",
   "metadata": {},
   "outputs": [],
   "source": []
  },
  {
   "cell_type": "code",
   "execution_count": null,
   "id": "c9e12468",
   "metadata": {},
   "outputs": [],
   "source": []
  },
  {
   "cell_type": "code",
   "execution_count": null,
   "id": "1770ad73",
   "metadata": {},
   "outputs": [],
   "source": []
  },
  {
   "cell_type": "code",
   "execution_count": null,
   "id": "18c5a599",
   "metadata": {},
   "outputs": [],
   "source": []
  }
 ],
 "metadata": {
  "kernelspec": {
   "display_name": "Python 3",
   "language": "python",
   "name": "python3"
  },
  "language_info": {
   "codemirror_mode": {
    "name": "ipython",
    "version": 3
   },
   "file_extension": ".py",
   "mimetype": "text/x-python",
   "name": "python",
   "nbconvert_exporter": "python",
   "pygments_lexer": "ipython3",
   "version": "3.8.8"
  }
 },
 "nbformat": 4,
 "nbformat_minor": 5
}
