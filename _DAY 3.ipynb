{
 "cells": [
  {
   "cell_type": "code",
   "execution_count": 18,
   "id": "d3ee3586",
   "metadata": {},
   "outputs": [],
   "source": [
    "last_name='kommineni'"
   ]
  },
  {
   "cell_type": "code",
   "execution_count": 19,
   "id": "8eb6e641",
   "metadata": {},
   "outputs": [],
   "source": [
    "first_name='venkat'"
   ]
  },
  {
   "cell_type": "code",
   "execution_count": 20,
   "id": "1cf46d8c",
   "metadata": {},
   "outputs": [
    {
     "ename": "SyntaxError",
     "evalue": "EOL while scanning string literal (<ipython-input-20-77923c5a7b54>, line 1)",
     "output_type": "error",
     "traceback": [
      "\u001b[1;36m  File \u001b[1;32m\"<ipython-input-20-77923c5a7b54>\"\u001b[1;36m, line \u001b[1;32m1\u001b[0m\n\u001b[1;33m    f\"{last_name.first_name}\u001b[0m\n\u001b[1;37m                            ^\u001b[0m\n\u001b[1;31mSyntaxError\u001b[0m\u001b[1;31m:\u001b[0m EOL while scanning string literal\n"
     ]
    }
   ],
   "source": [
    "f\"{last_name.first_name}"
   ]
  },
  {
   "cell_type": "code",
   "execution_count": 21,
   "id": "afaa4b5f",
   "metadata": {},
   "outputs": [
    {
     "name": "stdout",
     "output_type": "stream",
     "text": [
      "venkat\n"
     ]
    }
   ],
   "source": [
    "print(first_name)"
   ]
  },
  {
   "cell_type": "code",
   "execution_count": 22,
   "id": "274c206a",
   "metadata": {},
   "outputs": [
    {
     "name": "stdout",
     "output_type": "stream",
     "text": [
      "kommineni\n"
     ]
    }
   ],
   "source": [
    "print(last_name)"
   ]
  },
  {
   "cell_type": "code",
   "execution_count": 23,
   "id": "06d8a46e",
   "metadata": {},
   "outputs": [
    {
     "ename": "SyntaxError",
     "evalue": "invalid syntax (<ipython-input-23-894d40b6c401>, line 1)",
     "output_type": "error",
     "traceback": [
      "\u001b[1;36m  File \u001b[1;32m\"<ipython-input-23-894d40b6c401>\"\u001b[1;36m, line \u001b[1;32m1\u001b[0m\n\u001b[1;33m    print{\"first_name,last_name\"}\u001b[0m\n\u001b[1;37m         ^\u001b[0m\n\u001b[1;31mSyntaxError\u001b[0m\u001b[1;31m:\u001b[0m invalid syntax\n"
     ]
    }
   ],
   "source": [
    "print{\"first_name,last_name\"}"
   ]
  },
  {
   "cell_type": "code",
   "execution_count": 24,
   "id": "4fd7b19a",
   "metadata": {},
   "outputs": [
    {
     "name": "stdout",
     "output_type": "stream",
     "text": [
      "pyhton\n"
     ]
    }
   ],
   "source": [
    "print(\"pyhton\")"
   ]
  },
  {
   "cell_type": "code",
   "execution_count": 25,
   "id": "ffb3a79e",
   "metadata": {},
   "outputs": [
    {
     "name": "stdout",
     "output_type": "stream",
     "text": [
      "/t  python\n"
     ]
    }
   ],
   "source": [
    "print('/t  python')"
   ]
  },
  {
   "cell_type": "code",
   "execution_count": 26,
   "id": "b60ec216",
   "metadata": {},
   "outputs": [
    {
     "name": "stdout",
     "output_type": "stream",
     "text": [
      "      kommineni venkat\n"
     ]
    }
   ],
   "source": [
    "print('      kommineni venkat')"
   ]
  },
  {
   "cell_type": "code",
   "execution_count": 27,
   "id": "3803a29e",
   "metadata": {},
   "outputs": [
    {
     "name": "stdout",
     "output_type": "stream",
     "text": [
      "   mam i done correct\n"
     ]
    }
   ],
   "source": [
    "print( \"   mam i done correct\")"
   ]
  },
  {
   "cell_type": "code",
   "execution_count": 28,
   "id": "dd5e7297",
   "metadata": {},
   "outputs": [],
   "source": [
    "subject='i miss you'"
   ]
  },
  {
   "cell_type": "code",
   "execution_count": 29,
   "id": "0ac4b6cf",
   "metadata": {},
   "outputs": [
    {
     "name": "stdout",
     "output_type": "stream",
     "text": [
      "i miss you\n"
     ]
    }
   ],
   "source": [
    "print(subject.lstrip())"
   ]
  },
  {
   "cell_type": "code",
   "execution_count": 30,
   "id": "938094df",
   "metadata": {},
   "outputs": [],
   "source": [
    "line='         i just complete my dinner'"
   ]
  },
  {
   "cell_type": "code",
   "execution_count": 31,
   "id": "5d3e3a61",
   "metadata": {},
   "outputs": [
    {
     "name": "stdout",
     "output_type": "stream",
     "text": [
      "line.rstripe()\n"
     ]
    }
   ],
   "source": [
    "print('line.rstripe()')"
   ]
  },
  {
   "cell_type": "code",
   "execution_count": 32,
   "id": "5b1cee25",
   "metadata": {},
   "outputs": [],
   "source": [
    "fav_college='nit'"
   ]
  },
  {
   "cell_type": "code",
   "execution_count": 33,
   "id": "a416ed59",
   "metadata": {},
   "outputs": [
    {
     "name": "stdout",
     "output_type": "stream",
     "text": [
      "nit\n"
     ]
    }
   ],
   "source": [
    "print(fav_college.lstrip())"
   ]
  },
  {
   "cell_type": "code",
   "execution_count": 34,
   "id": "71ff9a12",
   "metadata": {},
   "outputs": [],
   "source": [
    "my_college=\"       nit rajestan\""
   ]
  },
  {
   "cell_type": "code",
   "execution_count": 35,
   "id": "0afe2cd0",
   "metadata": {},
   "outputs": [
    {
     "name": "stdout",
     "output_type": "stream",
     "text": [
      "nit rajestan\n"
     ]
    }
   ],
   "source": [
    "print(my_college.lstrip())"
   ]
  },
  {
   "cell_type": "code",
   "execution_count": 36,
   "id": "49f46d4a",
   "metadata": {},
   "outputs": [
    {
     "name": "stdout",
     "output_type": "stream",
     "text": [
      "       nit rajestan\n"
     ]
    }
   ],
   "source": [
    "print(my_college.rstrip())"
   ]
  },
  {
   "cell_type": "code",
   "execution_count": 38,
   "id": "7d9ef4f6",
   "metadata": {},
   "outputs": [
    {
     "name": "stdout",
     "output_type": "stream",
     "text": [
      "/t      kommineni\n"
     ]
    }
   ],
   "source": [
    "print('/t      kommineni')"
   ]
  },
  {
   "cell_type": "code",
   "execution_count": 42,
   "id": "d0a2ebec",
   "metadata": {},
   "outputs": [
    {
     "name": "stdout",
     "output_type": "stream",
     "text": [
      "relation:/n mom /n friend /n love /n life\n"
     ]
    }
   ],
   "source": [
    "print('relation:/n mom /n friend /n love /n life')"
   ]
  },
  {
   "cell_type": "code",
   "execution_count": 43,
   "id": "9fd800ff",
   "metadata": {},
   "outputs": [
    {
     "name": "stdout",
     "output_type": "stream",
     "text": [
      "relations: /n/tparents/n/tfriends/n/tlove\n"
     ]
    }
   ],
   "source": [
    "print('relations: /n/tparents/n/tfriends/n/tlove')"
   ]
  },
  {
   "cell_type": "code",
   "execution_count": 44,
   "id": "dc9571d4",
   "metadata": {},
   "outputs": [],
   "source": [
    "#list"
   ]
  },
  {
   "cell_type": "code",
   "execution_count": 46,
   "id": "a14537e7",
   "metadata": {},
   "outputs": [],
   "source": [
    "names=['vishnu','venkat','jai','balaji','srinu','ram']"
   ]
  },
  {
   "cell_type": "code",
   "execution_count": 47,
   "id": "6b2d0f3b",
   "metadata": {},
   "outputs": [
    {
     "name": "stdout",
     "output_type": "stream",
     "text": [
      "['vishnu', 'venkat', 'jai', 'balaji', 'srinu', 'ram']\n"
     ]
    }
   ],
   "source": [
    "print(names)"
   ]
  },
  {
   "cell_type": "code",
   "execution_count": 51,
   "id": "1c8fd81e",
   "metadata": {},
   "outputs": [
    {
     "ename": "IndexError",
     "evalue": "list index out of range",
     "output_type": "error",
     "traceback": [
      "\u001b[1;31m---------------------------------------------------------------------------\u001b[0m",
      "\u001b[1;31mIndexError\u001b[0m                                Traceback (most recent call last)",
      "\u001b[1;32m<ipython-input-51-c6499462f45b>\u001b[0m in \u001b[0;36m<module>\u001b[1;34m\u001b[0m\n\u001b[1;32m----> 1\u001b[1;33m \u001b[0mindex\u001b[0m\u001b[1;33m[\u001b[0m\u001b[1;36m5\u001b[0m\u001b[1;33m]\u001b[0m\u001b[1;33m\u001b[0m\u001b[1;33m\u001b[0m\u001b[0m\n\u001b[0m",
      "\u001b[1;31mIndexError\u001b[0m: list index out of range"
     ]
    }
   ],
   "source": [
    "index[5]"
   ]
  },
  {
   "cell_type": "code",
   "execution_count": 52,
   "id": "74cad7f0",
   "metadata": {},
   "outputs": [
    {
     "ename": "IndexError",
     "evalue": "list index out of range",
     "output_type": "error",
     "traceback": [
      "\u001b[1;31m---------------------------------------------------------------------------\u001b[0m",
      "\u001b[1;31mIndexError\u001b[0m                                Traceback (most recent call last)",
      "\u001b[1;32m<ipython-input-52-244eecd87fa9>\u001b[0m in \u001b[0;36m<module>\u001b[1;34m\u001b[0m\n\u001b[1;32m----> 1\u001b[1;33m \u001b[0mindex\u001b[0m\u001b[1;33m[\u001b[0m\u001b[1;36m2\u001b[0m\u001b[1;33m]\u001b[0m\u001b[1;33m\u001b[0m\u001b[1;33m\u001b[0m\u001b[0m\n\u001b[0m",
      "\u001b[1;31mIndexError\u001b[0m: list index out of range"
     ]
    }
   ],
   "source": [
    "index[2]"
   ]
  },
  {
   "cell_type": "code",
   "execution_count": null,
   "id": "4db39e11",
   "metadata": {},
   "outputs": [],
   "source": [
    "names=['vishnu','venkat','jai','balaji','srinu','ram']"
   ]
  },
  {
   "cell_type": "code",
   "execution_count": 53,
   "id": "7e2c2f09",
   "metadata": {},
   "outputs": [
    {
     "ename": "IndexError",
     "evalue": "list index out of range",
     "output_type": "error",
     "traceback": [
      "\u001b[1;31m---------------------------------------------------------------------------\u001b[0m",
      "\u001b[1;31mIndexError\u001b[0m                                Traceback (most recent call last)",
      "\u001b[1;32m<ipython-input-53-244eecd87fa9>\u001b[0m in \u001b[0;36m<module>\u001b[1;34m\u001b[0m\n\u001b[1;32m----> 1\u001b[1;33m \u001b[0mindex\u001b[0m\u001b[1;33m[\u001b[0m\u001b[1;36m2\u001b[0m\u001b[1;33m]\u001b[0m\u001b[1;33m\u001b[0m\u001b[1;33m\u001b[0m\u001b[0m\n\u001b[0m",
      "\u001b[1;31mIndexError\u001b[0m: list index out of range"
     ]
    }
   ],
   "source": [
    "index[2]"
   ]
  },
  {
   "cell_type": "code",
   "execution_count": 54,
   "id": "02d76146",
   "metadata": {},
   "outputs": [
    {
     "ename": "TypeError",
     "evalue": "list indices must be integers or slices, not str",
     "output_type": "error",
     "traceback": [
      "\u001b[1;31m---------------------------------------------------------------------------\u001b[0m",
      "\u001b[1;31mTypeError\u001b[0m                                 Traceback (most recent call last)",
      "\u001b[1;32m<ipython-input-54-fc64231652a9>\u001b[0m in \u001b[0;36m<module>\u001b[1;34m\u001b[0m\n\u001b[1;32m----> 1\u001b[1;33m \u001b[0mindex\u001b[0m\u001b[1;33m[\u001b[0m\u001b[1;34m'3'\u001b[0m\u001b[1;33m]\u001b[0m\u001b[1;33m\u001b[0m\u001b[1;33m\u001b[0m\u001b[0m\n\u001b[0m",
      "\u001b[1;31mTypeError\u001b[0m: list indices must be integers or slices, not str"
     ]
    }
   ],
   "source": [
    "index['3']"
   ]
  },
  {
   "cell_type": "code",
   "execution_count": null,
   "id": "a14b9630",
   "metadata": {},
   "outputs": [],
   "source": [
    "names=['vishnu','venkat','jai','balaji','srinu','ram']"
   ]
  },
  {
   "cell_type": "code",
   "execution_count": 55,
   "id": "439b5b4b",
   "metadata": {},
   "outputs": [
    {
     "ename": "TypeError",
     "evalue": "list indices must be integers or slices, not str",
     "output_type": "error",
     "traceback": [
      "\u001b[1;31m---------------------------------------------------------------------------\u001b[0m",
      "\u001b[1;31mTypeError\u001b[0m                                 Traceback (most recent call last)",
      "\u001b[1;32m<ipython-input-55-fc64231652a9>\u001b[0m in \u001b[0;36m<module>\u001b[1;34m\u001b[0m\n\u001b[1;32m----> 1\u001b[1;33m \u001b[0mindex\u001b[0m\u001b[1;33m[\u001b[0m\u001b[1;34m'3'\u001b[0m\u001b[1;33m]\u001b[0m\u001b[1;33m\u001b[0m\u001b[1;33m\u001b[0m\u001b[0m\n\u001b[0m",
      "\u001b[1;31mTypeError\u001b[0m: list indices must be integers or slices, not str"
     ]
    }
   ],
   "source": [
    "index['3']"
   ]
  },
  {
   "cell_type": "code",
   "execution_count": 56,
   "id": "50a3c331",
   "metadata": {},
   "outputs": [],
   "source": [
    "my_self=\"venkatkommineni\""
   ]
  },
  {
   "cell_type": "code",
   "execution_count": 57,
   "id": "0a744127",
   "metadata": {},
   "outputs": [],
   "source": [
    "my_friend=\"vishnu vardhan\""
   ]
  },
  {
   "cell_type": "code",
   "execution_count": 58,
   "id": "b5c1e15d",
   "metadata": {},
   "outputs": [
    {
     "ename": "SyntaxError",
     "evalue": "EOL while scanning string literal (<ipython-input-58-bb9f4ede1510>, line 1)",
     "output_type": "error",
     "traceback": [
      "\u001b[1;36m  File \u001b[1;32m\"<ipython-input-58-bb9f4ede1510>\"\u001b[1;36m, line \u001b[1;32m1\u001b[0m\n\u001b[1;33m    full-name=f\"{my_self}{my_friend}\u001b[0m\n\u001b[1;37m                                    ^\u001b[0m\n\u001b[1;31mSyntaxError\u001b[0m\u001b[1;31m:\u001b[0m EOL while scanning string literal\n"
     ]
    }
   ],
   "source": [
    "full-name=f\"{my_self}{my_friend}"
   ]
  },
  {
   "cell_type": "code",
   "execution_count": null,
   "id": "45fe35e9",
   "metadata": {},
   "outputs": [],
   "source": []
  },
  {
   "cell_type": "code",
   "execution_count": null,
   "id": "addf4b8e",
   "metadata": {},
   "outputs": [],
   "source": []
  },
  {
   "cell_type": "code",
   "execution_count": 63,
   "id": "86924d45",
   "metadata": {},
   "outputs": [],
   "source": [
    "my_mom='prameela'"
   ]
  },
  {
   "cell_type": "code",
   "execution_count": 64,
   "id": "b8de4bc1",
   "metadata": {},
   "outputs": [],
   "source": [
    "my_dad='ramanaiah'"
   ]
  },
  {
   "cell_type": "code",
   "execution_count": 66,
   "id": "6a98b845",
   "metadata": {},
   "outputs": [
    {
     "ename": "SyntaxError",
     "evalue": "EOL while scanning string literal (<ipython-input-66-9212e6533abc>, line 1)",
     "output_type": "error",
     "traceback": [
      "\u001b[1;36m  File \u001b[1;32m\"<ipython-input-66-9212e6533abc>\"\u001b[1;36m, line \u001b[1;32m1\u001b[0m\n\u001b[1;33m    my_parents=f\"{my_mom}{my_dad}\"\"\u001b[0m\n\u001b[1;37m                                   ^\u001b[0m\n\u001b[1;31mSyntaxError\u001b[0m\u001b[1;31m:\u001b[0m EOL while scanning string literal\n"
     ]
    }
   ],
   "source": [
    "my_parents=f\"{my_mom}{my_dad}\"\""
   ]
  },
  {
   "cell_type": "code",
   "execution_count": 67,
   "id": "6dd9f508",
   "metadata": {},
   "outputs": [],
   "source": [
    "first_name=\"jai\""
   ]
  },
  {
   "cell_type": "code",
   "execution_count": 68,
   "id": "a8c619c2",
   "metadata": {},
   "outputs": [],
   "source": [
    "last_name=\"kommineni\""
   ]
  },
  {
   "cell_type": "code",
   "execution_count": 69,
   "id": "3ac98c50",
   "metadata": {},
   "outputs": [],
   "source": [
    "full_name=f\"{first_name}{last_name}\""
   ]
  },
  {
   "cell_type": "code",
   "execution_count": 70,
   "id": "b0bc13ce",
   "metadata": {},
   "outputs": [
    {
     "name": "stdout",
     "output_type": "stream",
     "text": [
      "jaikommineni\n"
     ]
    }
   ],
   "source": [
    "print(full_name)"
   ]
  },
  {
   "cell_type": "code",
   "execution_count": 71,
   "id": "087371b0",
   "metadata": {},
   "outputs": [
    {
     "name": "stdout",
     "output_type": "stream",
     "text": [
      "JAIKOMMINENI\n"
     ]
    }
   ],
   "source": [
    "print(full_name.upper())"
   ]
  },
  {
   "cell_type": "code",
   "execution_count": 72,
   "id": "e69644a6",
   "metadata": {},
   "outputs": [
    {
     "name": "stdout",
     "output_type": "stream",
     "text": [
      "Jaikommineni\n"
     ]
    }
   ],
   "source": [
    "print(full_name.title())"
   ]
  },
  {
   "cell_type": "code",
   "execution_count": 73,
   "id": "22b9c9e4",
   "metadata": {},
   "outputs": [
    {
     "data": {
      "text/plain": [
       "10"
      ]
     },
     "execution_count": 73,
     "metadata": {},
     "output_type": "execute_result"
    }
   ],
   "source": [
    "5+5"
   ]
  },
  {
   "cell_type": "code",
   "execution_count": 74,
   "id": "276df06a",
   "metadata": {},
   "outputs": [
    {
     "data": {
      "text/plain": [
       "62"
      ]
     },
     "execution_count": 74,
     "metadata": {},
     "output_type": "execute_result"
    }
   ],
   "source": [
    "56+6"
   ]
  },
  {
   "cell_type": "code",
   "execution_count": 75,
   "id": "3dff8182",
   "metadata": {},
   "outputs": [
    {
     "data": {
      "text/plain": [
       "3125"
      ]
     },
     "execution_count": 75,
     "metadata": {},
     "output_type": "execute_result"
    }
   ],
   "source": [
    "5**5"
   ]
  },
  {
   "cell_type": "code",
   "execution_count": 76,
   "id": "14940aae",
   "metadata": {},
   "outputs": [
    {
     "data": {
      "text/plain": [
       "25"
      ]
     },
     "execution_count": 76,
     "metadata": {},
     "output_type": "execute_result"
    }
   ],
   "source": [
    "5**2"
   ]
  },
  {
   "cell_type": "code",
   "execution_count": 77,
   "id": "9624d9f0",
   "metadata": {},
   "outputs": [
    {
     "data": {
      "text/plain": [
       "3472"
      ]
     },
     "execution_count": 77,
     "metadata": {},
     "output_type": "execute_result"
    }
   ],
   "source": [
    "62*56"
   ]
  },
  {
   "cell_type": "code",
   "execution_count": 78,
   "id": "d7d48e50",
   "metadata": {},
   "outputs": [
    {
     "data": {
      "text/plain": [
       "66.2"
      ]
     },
     "execution_count": 78,
     "metadata": {},
     "output_type": "execute_result"
    }
   ],
   "source": [
    "65.2+1.0"
   ]
  },
  {
   "cell_type": "code",
   "execution_count": 79,
   "id": "2f493fb0",
   "metadata": {},
   "outputs": [
    {
     "data": {
      "text/plain": [
       "21.0"
      ]
     },
     "execution_count": 79,
     "metadata": {},
     "output_type": "execute_result"
    }
   ],
   "source": [
    "12.8+8.2"
   ]
  },
  {
   "cell_type": "code",
   "execution_count": 80,
   "id": "d7b69697",
   "metadata": {},
   "outputs": [],
   "source": [
    "# mam here i think no need of 0 here then what is the need ?"
   ]
  },
  {
   "cell_type": "code",
   "execution_count": 81,
   "id": "7310c0d0",
   "metadata": {},
   "outputs": [
    {
     "data": {
      "text/plain": [
       "2.5"
      ]
     },
     "execution_count": 81,
     "metadata": {},
     "output_type": "execute_result"
    }
   ],
   "source": [
    "5/2"
   ]
  },
  {
   "cell_type": "code",
   "execution_count": 82,
   "id": "a11faa5e",
   "metadata": {},
   "outputs": [
    {
     "data": {
      "text/plain": [
       "8.0"
      ]
     },
     "execution_count": 82,
     "metadata": {},
     "output_type": "execute_result"
    }
   ],
   "source": [
    "16/2"
   ]
  },
  {
   "cell_type": "code",
   "execution_count": 83,
   "id": "31c9722b",
   "metadata": {},
   "outputs": [
    {
     "data": {
      "text/plain": [
       "100.0"
      ]
     },
     "execution_count": 83,
     "metadata": {},
     "output_type": "execute_result"
    }
   ],
   "source": [
    "96+4.0"
   ]
  },
  {
   "cell_type": "code",
   "execution_count": 88,
   "id": "486a93f1",
   "metadata": {},
   "outputs": [],
   "source": [
    "my_fav=\"      mom\""
   ]
  },
  {
   "cell_type": "code",
   "execution_count": 89,
   "id": "8a3d8378",
   "metadata": {},
   "outputs": [
    {
     "name": "stdout",
     "output_type": "stream",
     "text": [
      "      mom\n"
     ]
    }
   ],
   "source": [
    "print(my_fav)"
   ]
  },
  {
   "cell_type": "code",
   "execution_count": 90,
   "id": "0badaf6d",
   "metadata": {},
   "outputs": [
    {
     "name": "stdout",
     "output_type": "stream",
     "text": [
      "      mom\n"
     ]
    }
   ],
   "source": [
    "print(my_fav.rstrip())"
   ]
  },
  {
   "cell_type": "code",
   "execution_count": 91,
   "id": "cc5c591a",
   "metadata": {},
   "outputs": [
    {
     "name": "stdout",
     "output_type": "stream",
     "text": [
      "mom\n"
     ]
    }
   ],
   "source": [
    "print(my_fav.lstrip())"
   ]
  },
  {
   "cell_type": "code",
   "execution_count": 93,
   "id": "3a4ee079",
   "metadata": {},
   "outputs": [
    {
     "name": "stdout",
     "output_type": "stream",
     "text": [
      "kommineni venakt\n"
     ]
    }
   ],
   "source": [
    "print('kommineni venakt')"
   ]
  },
  {
   "cell_type": "code",
   "execution_count": 94,
   "id": "5a70133c",
   "metadata": {},
   "outputs": [
    {
     "name": "stdout",
     "output_type": "stream",
     "text": [
      "/t kommineni venkat\n"
     ]
    }
   ],
   "source": [
    "print('/t kommineni venkat')"
   ]
  },
  {
   "cell_type": "code",
   "execution_count": 95,
   "id": "d688092f",
   "metadata": {},
   "outputs": [],
   "source": [
    "# mam here i didn't get clear"
   ]
  },
  {
   "cell_type": "code",
   "execution_count": 96,
   "id": "5102d6b0",
   "metadata": {},
   "outputs": [
    {
     "name": "stdout",
     "output_type": "stream",
     "text": [
      "things:/n/tkeys/n/tpens/n/tbooks\n"
     ]
    }
   ],
   "source": [
    "print('things:/n/tkeys/n/tpens/n/tbooks')"
   ]
  },
  {
   "cell_type": "code",
   "execution_count": null,
   "id": "ba336f15",
   "metadata": {},
   "outputs": [],
   "source": [
    "# mam here i didn't get clear"
   ]
  },
  {
   "cell_type": "code",
   "execution_count": 97,
   "id": "deaaa3b9",
   "metadata": {},
   "outputs": [],
   "source": [
    "items=['pen','book','penciles','phones']"
   ]
  },
  {
   "cell_type": "code",
   "execution_count": 99,
   "id": "6be556d7",
   "metadata": {},
   "outputs": [
    {
     "ename": "IndexError",
     "evalue": "list index out of range",
     "output_type": "error",
     "traceback": [
      "\u001b[1;31m---------------------------------------------------------------------------\u001b[0m",
      "\u001b[1;31mIndexError\u001b[0m                                Traceback (most recent call last)",
      "\u001b[1;32m<ipython-input-99-63efa5076c00>\u001b[0m in \u001b[0;36m<module>\u001b[1;34m\u001b[0m\n\u001b[1;32m----> 1\u001b[1;33m \u001b[0mitems\u001b[0m\u001b[1;33m[\u001b[0m\u001b[1;36m5\u001b[0m\u001b[1;33m]\u001b[0m\u001b[1;33m\u001b[0m\u001b[1;33m\u001b[0m\u001b[0m\n\u001b[0m",
      "\u001b[1;31mIndexError\u001b[0m: list index out of range"
     ]
    }
   ],
   "source": [
    "items[5]"
   ]
  },
  {
   "cell_type": "code",
   "execution_count": 100,
   "id": "3c7696dc",
   "metadata": {},
   "outputs": [
    {
     "data": {
      "text/plain": [
       "'phones'"
      ]
     },
     "execution_count": 100,
     "metadata": {},
     "output_type": "execute_result"
    }
   ],
   "source": [
    "items[3]"
   ]
  },
  {
   "cell_type": "code",
   "execution_count": 101,
   "id": "9dab5d88",
   "metadata": {},
   "outputs": [
    {
     "data": {
      "text/plain": [
       "'book'"
      ]
     },
     "execution_count": 101,
     "metadata": {},
     "output_type": "execute_result"
    }
   ],
   "source": [
    "items[1]"
   ]
  },
  {
   "cell_type": "code",
   "execution_count": null,
   "id": "cdd21c03",
   "metadata": {},
   "outputs": [],
   "source": []
  },
  {
   "cell_type": "code",
   "execution_count": null,
   "id": "1b74090e",
   "metadata": {},
   "outputs": [],
   "source": []
  },
  {
   "cell_type": "code",
   "execution_count": null,
   "id": "833bf7a6",
   "metadata": {},
   "outputs": [],
   "source": []
  },
  {
   "cell_type": "code",
   "execution_count": null,
   "id": "509f39a6",
   "metadata": {},
   "outputs": [],
   "source": []
  },
  {
   "cell_type": "code",
   "execution_count": null,
   "id": "a607e6e8",
   "metadata": {},
   "outputs": [],
   "source": []
  },
  {
   "cell_type": "code",
   "execution_count": null,
   "id": "e073ec93",
   "metadata": {},
   "outputs": [],
   "source": []
  },
  {
   "cell_type": "code",
   "execution_count": null,
   "id": "938e9fb9",
   "metadata": {},
   "outputs": [],
   "source": []
  }
 ],
 "metadata": {
  "kernelspec": {
   "display_name": "Python 3",
   "language": "python",
   "name": "python3"
  },
  "language_info": {
   "codemirror_mode": {
    "name": "ipython",
    "version": 3
   },
   "file_extension": ".py",
   "mimetype": "text/x-python",
   "name": "python",
   "nbconvert_exporter": "python",
   "pygments_lexer": "ipython3",
   "version": "3.8.8"
  }
 },
 "nbformat": 4,
 "nbformat_minor": 5
}
